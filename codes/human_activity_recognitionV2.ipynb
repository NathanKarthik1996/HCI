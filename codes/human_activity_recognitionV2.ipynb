{
 "cells": [
  {
   "cell_type": "markdown",
   "metadata": {},
   "source": [
    "# Human Interaction Recognition\n",
    "\n"
   ]
  },
  {
   "cell_type": "code",
   "execution_count": 1,
   "metadata": {},
   "outputs": [
    {
     "name": "stdout",
     "output_type": "stream",
     "text": [
      "['/home/karthik/HCI/codes/Data/Hugging/1.avi'\n",
      " '/home/karthik/HCI/codes/Data/Hugging/2.avi'\n",
      " '/home/karthik/HCI/codes/Data/Hugging/3.avi'\n",
      " '/home/karthik/HCI/codes/Data/Hugging/4.avi'\n",
      " '/home/karthik/HCI/codes/Data/Hugging/5.avi'\n",
      " '/home/karthik/HCI/codes/Data/Hugging/6.avi'\n",
      " '/home/karthik/HCI/codes/Data/Hugging/7.avi'\n",
      " '/home/karthik/HCI/codes/Data/Hugging/8.avi'\n",
      " '/home/karthik/HCI/codes/Data/Hugging/9.avi'\n",
      " '/home/karthik/HCI/codes/Data/Hugging/A1.avi'\n",
      " '/home/karthik/HCI/codes/Data/Hugging/A10.avi'\n",
      " '/home/karthik/HCI/codes/Data/Hugging/A11.avi'\n",
      " '/home/karthik/HCI/codes/Data/Hugging/A2.avi'\n",
      " '/home/karthik/HCI/codes/Data/Hugging/A3.avi'\n",
      " '/home/karthik/HCI/codes/Data/Hugging/A4.avi'\n",
      " '/home/karthik/HCI/codes/Data/Hugging/A5.avi'\n",
      " '/home/karthik/HCI/codes/Data/Hugging/A6.avi'\n",
      " '/home/karthik/HCI/codes/Data/Hugging/A7.avi'\n",
      " '/home/karthik/HCI/codes/Data/Hugging/A8.avi'\n",
      " '/home/karthik/HCI/codes/Data/Hugging/A9.avi'\n",
      " '/home/karthik/HCI/codes/Data/handshake/1.avi'\n",
      " '/home/karthik/HCI/codes/Data/handshake/2.avi'\n",
      " '/home/karthik/HCI/codes/Data/handshake/3.avi'\n",
      " '/home/karthik/HCI/codes/Data/handshake/4.avi'\n",
      " '/home/karthik/HCI/codes/Data/handshake/5.avi'\n",
      " '/home/karthik/HCI/codes/Data/handshake/6.avi'\n",
      " '/home/karthik/HCI/codes/Data/handshake/7.avi'\n",
      " '/home/karthik/HCI/codes/Data/handshake/8.avi'\n",
      " '/home/karthik/HCI/codes/Data/handshake/9.avi'\n",
      " '/home/karthik/HCI/codes/Data/handshake/A1.avi'\n",
      " '/home/karthik/HCI/codes/Data/handshake/A2.avi'\n",
      " '/home/karthik/HCI/codes/Data/handshake/A3.avi'\n",
      " '/home/karthik/HCI/codes/Data/handshake/A4.avi'\n",
      " '/home/karthik/HCI/codes/Data/handshake/A5.avi'\n",
      " '/home/karthik/HCI/codes/Data/handshake/A6.avi'\n",
      " '/home/karthik/HCI/codes/Data/handshake/A7.avi'\n",
      " '/home/karthik/HCI/codes/Data/handshake/A8.avi'\n",
      " '/home/karthik/HCI/codes/Data/handshake/A9.avi'\n",
      " '/home/karthik/HCI/codes/Data/kicking/1.avi'\n",
      " '/home/karthik/HCI/codes/Data/kicking/10.avi'\n",
      " '/home/karthik/HCI/codes/Data/kicking/11.avi'\n",
      " '/home/karthik/HCI/codes/Data/kicking/12.avi'\n",
      " '/home/karthik/HCI/codes/Data/kicking/13.avi'\n",
      " '/home/karthik/HCI/codes/Data/kicking/14.avi'\n",
      " '/home/karthik/HCI/codes/Data/kicking/15.avi'\n",
      " '/home/karthik/HCI/codes/Data/kicking/16.avi'\n",
      " '/home/karthik/HCI/codes/Data/kicking/17.avi'\n",
      " '/home/karthik/HCI/codes/Data/kicking/18.avi'\n",
      " '/home/karthik/HCI/codes/Data/kicking/19.avi'\n",
      " '/home/karthik/HCI/codes/Data/kicking/2.avi'\n",
      " '/home/karthik/HCI/codes/Data/kicking/20.avi'\n",
      " '/home/karthik/HCI/codes/Data/kicking/3.avi'\n",
      " '/home/karthik/HCI/codes/Data/kicking/4.avi'\n",
      " '/home/karthik/HCI/codes/Data/kicking/5.avi'\n",
      " '/home/karthik/HCI/codes/Data/kicking/6.avi'\n",
      " '/home/karthik/HCI/codes/Data/kicking/7.avi'\n",
      " '/home/karthik/HCI/codes/Data/kicking/8.avi'\n",
      " '/home/karthik/HCI/codes/Data/kicking/9.avi'\n",
      " '/home/karthik/HCI/codes/Data/kicking/A1.avi'\n",
      " '/home/karthik/HCI/codes/Data/kicking/A10.avi'\n",
      " '/home/karthik/HCI/codes/Data/kicking/A11.avi'\n",
      " '/home/karthik/HCI/codes/Data/kicking/A12.avi'\n",
      " '/home/karthik/HCI/codes/Data/kicking/A13.avi'\n",
      " '/home/karthik/HCI/codes/Data/kicking/A14.avi'\n",
      " '/home/karthik/HCI/codes/Data/kicking/A15.avi'\n",
      " '/home/karthik/HCI/codes/Data/kicking/A16.avi'\n",
      " '/home/karthik/HCI/codes/Data/kicking/A17.avi'\n",
      " '/home/karthik/HCI/codes/Data/kicking/A18.avi'\n",
      " '/home/karthik/HCI/codes/Data/kicking/A2.avi'\n",
      " '/home/karthik/HCI/codes/Data/kicking/A3.avi'\n",
      " '/home/karthik/HCI/codes/Data/kicking/A4.avi'\n",
      " '/home/karthik/HCI/codes/Data/kicking/A5.avi'\n",
      " '/home/karthik/HCI/codes/Data/kicking/A6.avi'\n",
      " '/home/karthik/HCI/codes/Data/kicking/A7.avi'\n",
      " '/home/karthik/HCI/codes/Data/kicking/A8.avi'\n",
      " '/home/karthik/HCI/codes/Data/kicking/A9.avi'\n",
      " '/home/karthik/HCI/codes/Data/punching/1.avi'\n",
      " '/home/karthik/HCI/codes/Data/punching/10.avi'\n",
      " '/home/karthik/HCI/codes/Data/punching/11.avi'\n",
      " '/home/karthik/HCI/codes/Data/punching/12.avi'\n",
      " '/home/karthik/HCI/codes/Data/punching/13.avi'\n",
      " '/home/karthik/HCI/codes/Data/punching/14.avi'\n",
      " '/home/karthik/HCI/codes/Data/punching/15.avi'\n",
      " '/home/karthik/HCI/codes/Data/punching/16.avi'\n",
      " '/home/karthik/HCI/codes/Data/punching/17.avi'\n",
      " '/home/karthik/HCI/codes/Data/punching/2.avi'\n",
      " '/home/karthik/HCI/codes/Data/punching/3.avi'\n",
      " '/home/karthik/HCI/codes/Data/punching/4.avi'\n",
      " '/home/karthik/HCI/codes/Data/punching/5.avi'\n",
      " '/home/karthik/HCI/codes/Data/punching/6.avi'\n",
      " '/home/karthik/HCI/codes/Data/punching/7.avi'\n",
      " '/home/karthik/HCI/codes/Data/punching/8.avi'\n",
      " '/home/karthik/HCI/codes/Data/punching/9.avi'\n",
      " '/home/karthik/HCI/codes/Data/punching/A1.avi'\n",
      " '/home/karthik/HCI/codes/Data/punching/A10.avi'\n",
      " '/home/karthik/HCI/codes/Data/punching/A11.avi'\n",
      " '/home/karthik/HCI/codes/Data/punching/A12.avi'\n",
      " '/home/karthik/HCI/codes/Data/punching/A13.avi'\n",
      " '/home/karthik/HCI/codes/Data/punching/A14.avi'\n",
      " '/home/karthik/HCI/codes/Data/punching/A15.avi'\n",
      " '/home/karthik/HCI/codes/Data/punching/A16.avi'\n",
      " '/home/karthik/HCI/codes/Data/punching/A17.avi'\n",
      " '/home/karthik/HCI/codes/Data/punching/A18.avi'\n",
      " '/home/karthik/HCI/codes/Data/punching/A19.avi'\n",
      " '/home/karthik/HCI/codes/Data/punching/A2.avi'\n",
      " '/home/karthik/HCI/codes/Data/punching/A3.avi'\n",
      " '/home/karthik/HCI/codes/Data/punching/A4.avi'\n",
      " '/home/karthik/HCI/codes/Data/punching/A5.avi'\n",
      " '/home/karthik/HCI/codes/Data/punching/A6.avi'\n",
      " '/home/karthik/HCI/codes/Data/punching/A7.avi'\n",
      " '/home/karthik/HCI/codes/Data/punching/A8.avi'\n",
      " '/home/karthik/HCI/codes/Data/punching/A9.avi'\n",
      " '/home/karthik/HCI/codes/Data/pushing/1.avi'\n",
      " '/home/karthik/HCI/codes/Data/pushing/10.avi'\n",
      " '/home/karthik/HCI/codes/Data/pushing/11.avi'\n",
      " '/home/karthik/HCI/codes/Data/pushing/12.avi'\n",
      " '/home/karthik/HCI/codes/Data/pushing/13.avi'\n",
      " '/home/karthik/HCI/codes/Data/pushing/14.avi'\n",
      " '/home/karthik/HCI/codes/Data/pushing/15.avi'\n",
      " '/home/karthik/HCI/codes/Data/pushing/2.avi'\n",
      " '/home/karthik/HCI/codes/Data/pushing/3.avi'\n",
      " '/home/karthik/HCI/codes/Data/pushing/4.avi'\n",
      " '/home/karthik/HCI/codes/Data/pushing/5.avi'\n",
      " '/home/karthik/HCI/codes/Data/pushing/6.avi'\n",
      " '/home/karthik/HCI/codes/Data/pushing/7.avi'\n",
      " '/home/karthik/HCI/codes/Data/pushing/8.avi'\n",
      " '/home/karthik/HCI/codes/Data/pushing/9.avi'\n",
      " '/home/karthik/HCI/codes/Data/pushing/A1.avi'\n",
      " '/home/karthik/HCI/codes/Data/pushing/A10.avi'\n",
      " '/home/karthik/HCI/codes/Data/pushing/A11.avi'\n",
      " '/home/karthik/HCI/codes/Data/pushing/A12.avi'\n",
      " '/home/karthik/HCI/codes/Data/pushing/A13.avi'\n",
      " '/home/karthik/HCI/codes/Data/pushing/A14.avi'\n",
      " '/home/karthik/HCI/codes/Data/pushing/A16.avi'\n",
      " '/home/karthik/HCI/codes/Data/pushing/A17.avi'\n",
      " '/home/karthik/HCI/codes/Data/pushing/A18.avi'\n",
      " '/home/karthik/HCI/codes/Data/pushing/A19.avi'\n",
      " '/home/karthik/HCI/codes/Data/pushing/A2.avi'\n",
      " '/home/karthik/HCI/codes/Data/pushing/A20.avi'\n",
      " '/home/karthik/HCI/codes/Data/pushing/A21.avi'\n",
      " '/home/karthik/HCI/codes/Data/pushing/A22.avi'\n",
      " '/home/karthik/HCI/codes/Data/pushing/A23.avi'\n",
      " '/home/karthik/HCI/codes/Data/pushing/A3.avi'\n",
      " '/home/karthik/HCI/codes/Data/pushing/A4.avi'\n",
      " '/home/karthik/HCI/codes/Data/pushing/A5.avi'\n",
      " '/home/karthik/HCI/codes/Data/pushing/A6.avi'\n",
      " '/home/karthik/HCI/codes/Data/pushing/A7.avi'\n",
      " '/home/karthik/HCI/codes/Data/pushing/A8.avi'\n",
      " '/home/karthik/HCI/codes/Data/pushing/A9.avi'\n",
      " '/home/karthik/HCI/codes/Data/walking/1.avi'\n",
      " '/home/karthik/HCI/codes/Data/walking/10.avi'\n",
      " '/home/karthik/HCI/codes/Data/walking/11.avi'\n",
      " '/home/karthik/HCI/codes/Data/walking/12.avi'\n",
      " '/home/karthik/HCI/codes/Data/walking/13.avi'\n",
      " '/home/karthik/HCI/codes/Data/walking/14.avi'\n",
      " '/home/karthik/HCI/codes/Data/walking/15.avi'\n",
      " '/home/karthik/HCI/codes/Data/walking/16.avi'\n",
      " '/home/karthik/HCI/codes/Data/walking/17.avi'\n",
      " '/home/karthik/HCI/codes/Data/walking/2.mp4'\n",
      " '/home/karthik/HCI/codes/Data/walking/3.avi'\n",
      " '/home/karthik/HCI/codes/Data/walking/4.avi'\n",
      " '/home/karthik/HCI/codes/Data/walking/5.avi'\n",
      " '/home/karthik/HCI/codes/Data/walking/6.avi'\n",
      " '/home/karthik/HCI/codes/Data/walking/7.avi'\n",
      " '/home/karthik/HCI/codes/Data/walking/8.avi'\n",
      " '/home/karthik/HCI/codes/Data/walking/9.avi'\n",
      " '/home/karthik/HCI/codes/Data/walking/A1.avi'\n",
      " '/home/karthik/HCI/codes/Data/walking/A10.avi'\n",
      " '/home/karthik/HCI/codes/Data/walking/A11.avi'\n",
      " '/home/karthik/HCI/codes/Data/walking/A12.avi'\n",
      " '/home/karthik/HCI/codes/Data/walking/A13.avi'\n",
      " '/home/karthik/HCI/codes/Data/walking/A14.avi'\n",
      " '/home/karthik/HCI/codes/Data/walking/A15.avi'\n",
      " '/home/karthik/HCI/codes/Data/walking/A16.avi'\n",
      " '/home/karthik/HCI/codes/Data/walking/A17.avi'\n",
      " '/home/karthik/HCI/codes/Data/walking/A18.avi'\n",
      " '/home/karthik/HCI/codes/Data/walking/A19.avi'\n",
      " '/home/karthik/HCI/codes/Data/walking/A2.avi'\n",
      " '/home/karthik/HCI/codes/Data/walking/A20.avi'\n",
      " '/home/karthik/HCI/codes/Data/walking/A21.avi'\n",
      " '/home/karthik/HCI/codes/Data/walking/A22.avi'\n",
      " '/home/karthik/HCI/codes/Data/walking/A3.avi'\n",
      " '/home/karthik/HCI/codes/Data/walking/A4.avi'\n",
      " '/home/karthik/HCI/codes/Data/walking/A5.avi'\n",
      " '/home/karthik/HCI/codes/Data/walking/A6.avi'\n",
      " '/home/karthik/HCI/codes/Data/walking/A7.avi'\n",
      " '/home/karthik/HCI/codes/Data/walking/A8.avi'\n",
      " '/home/karthik/HCI/codes/Data/walking/A9.avi'\n",
      " '/home/karthik/HCI/codes/Data/walking away/1.mp4'\n",
      " '/home/karthik/HCI/codes/Data/walking away/10.avi'\n",
      " '/home/karthik/HCI/codes/Data/walking away/11.avi'\n",
      " '/home/karthik/HCI/codes/Data/walking away/12.avi'\n",
      " '/home/karthik/HCI/codes/Data/walking away/13.avi'\n",
      " '/home/karthik/HCI/codes/Data/walking away/14.avi'\n",
      " '/home/karthik/HCI/codes/Data/walking away/15.avi'\n",
      " '/home/karthik/HCI/codes/Data/walking away/16.avi'\n",
      " '/home/karthik/HCI/codes/Data/walking away/17.avi'\n",
      " '/home/karthik/HCI/codes/Data/walking away/18.avi'\n",
      " '/home/karthik/HCI/codes/Data/walking away/19.avi'\n",
      " '/home/karthik/HCI/codes/Data/walking away/2.avi'\n",
      " '/home/karthik/HCI/codes/Data/walking away/3.avi'\n",
      " '/home/karthik/HCI/codes/Data/walking away/4.avi'\n",
      " '/home/karthik/HCI/codes/Data/walking away/5.avi'\n",
      " '/home/karthik/HCI/codes/Data/walking away/6.avi'\n",
      " '/home/karthik/HCI/codes/Data/walking away/7.avi'\n",
      " '/home/karthik/HCI/codes/Data/walking away/8.avi'\n",
      " '/home/karthik/HCI/codes/Data/walking away/9.avi'\n",
      " '/home/karthik/HCI/codes/Data/walking away/A1.avi'\n",
      " '/home/karthik/HCI/codes/Data/walking away/A11.avi'\n",
      " '/home/karthik/HCI/codes/Data/walking away/A12.avi'\n",
      " '/home/karthik/HCI/codes/Data/walking away/A13.avi'\n",
      " '/home/karthik/HCI/codes/Data/walking away/A14.avi'\n",
      " '/home/karthik/HCI/codes/Data/walking away/A15.avi'\n",
      " '/home/karthik/HCI/codes/Data/walking away/A16.avi'\n",
      " '/home/karthik/HCI/codes/Data/walking away/A17.avi'\n",
      " '/home/karthik/HCI/codes/Data/walking away/A18.avi'\n",
      " '/home/karthik/HCI/codes/Data/walking away/A19.avi'\n",
      " '/home/karthik/HCI/codes/Data/walking away/A2.avi'\n",
      " '/home/karthik/HCI/codes/Data/walking away/A20.avi'\n",
      " '/home/karthik/HCI/codes/Data/walking away/A21.avi'\n",
      " '/home/karthik/HCI/codes/Data/walking away/A22.avi'\n",
      " '/home/karthik/HCI/codes/Data/walking away/A3.avi'\n",
      " '/home/karthik/HCI/codes/Data/walking away/A4.avi'\n",
      " '/home/karthik/HCI/codes/Data/walking away/A5.avi'\n",
      " '/home/karthik/HCI/codes/Data/walking away/A6.avi'\n",
      " '/home/karthik/HCI/codes/Data/walking away/A7.avi'\n",
      " '/home/karthik/HCI/codes/Data/walking away/A8.avi'\n",
      " '/home/karthik/HCI/codes/Data/walking away/A9.avi'] [0 0 0 0 0 0 0 0 0 0 0 0 0 0 0 0 0 0 0 0 1 1 1 1 1 1 1 1 1 1 1 1 1 1 1 1 1\n",
      " 1 2 2 2 2 2 2 2 2 2 2 2 2 2 2 2 2 2 2 2 2 2 2 2 2 2 2 2 2 2 2 2 2 2 2 2 2\n",
      " 2 2 3 3 3 3 3 3 3 3 3 3 3 3 3 3 3 3 3 3 3 3 3 3 3 3 3 3 3 3 3 3 3 3 3 3 3\n",
      " 3 4 4 4 4 4 4 4 4 4 4 4 4 4 4 4 4 4 4 4 4 4 4 4 4 4 4 4 4 4 4 4 4 4 4 4 4\n",
      " 4 5 5 5 5 5 5 5 5 5 5 5 5 5 5 5 5 5 5 5 5 5 5 5 5 5 5 5 5 5 5 5 5 5 5 5 5\n",
      " 5 5 5 6 6 6 6 6 6 6 6 6 6 6 6 6 6 6 6 6 6 6 6 6 6 6 6 6 6 6 6 6 6 6 6 6 6\n",
      " 6 6 6 6 6 6]\n",
      "('Total number of videos:', 228)\n",
      "('\\nNumber of videos in training data:', 152)\n",
      "('Number of videos in validation data:', 76)\n",
      "('Number of videos in test data:', 0)\n"
     ]
    }
   ],
   "source": [
    "\n",
    "import os\n",
    "from sklearn.datasets import load_files\n",
    "from sklearn.model_selection import train_test_split\n",
    "raw_data = load_files(os.getcwd() + r'/Data', shuffle=False)\n",
    "files = raw_data['filenames']\n",
    "targets = raw_data['target']\n",
    "train_files, test_files, train_targets, test_targets = train_test_split(files, targets, test_size=1/3, random_state=191)\n",
    "valid_files = train_files[152:]\n",
    "valid_targets = train_targets[152:]\n",
    "train_files = train_files[:152]\n",
    "train_targets = train_targets[:152]\n",
    "print files,targets\n",
    "print('Total number of videos:', len(files))\n",
    "print('\\nNumber of videos in training data:', train_files.shape[0])\n",
    "print('Number of videos in validation data:', valid_files.shape[0])\n",
    "print('Number of videos in test data:', test_files.shape[0])"
   ]
  },
  {
   "cell_type": "code",
   "execution_count": null,
   "metadata": {
    "collapsed": true
   },
   "outputs": [],
   "source": []
  },
  {
   "cell_type": "code",
   "execution_count": 2,
   "metadata": {},
   "outputs": [
    {
     "name": "stdout",
     "output_type": "stream",
     "text": [
      "The categorical labels are converted into integers.\n",
      "Following is the mapping - \n",
      "\n",
      "(0, 'Hugging')\n",
      "(1, 'handshake')\n",
      "(2, 'kicking')\n",
      "(3, 'punching')\n",
      "(4, 'pushing')\n",
      "(5, 'walking')\n",
      "(6, 'walking away')\n",
      "{0: 'Hugging', 1: 'handshake', 2: 'kicking', 3: 'punching', 4: 'pushing', 5: 'walking', 6: 'walking away'}\n"
     ]
    }
   ],
   "source": [
    "print('The categorical labels are converted into integers.\\nFollowing is the mapping - \\n')\n",
    "list={}\n",
    "i=0\n",
    "for label in zip(range(7), raw_data['target_names']):\n",
    "    print(label)\n",
    "    #list.update\n",
    "    list.update({i:raw_data['target_names'][i]})\n",
    "    i=i+1\n",
    "print list"
   ]
  },
  {
   "cell_type": "markdown",
   "metadata": {},
   "source": []
  },
  {
   "cell_type": "code",
   "execution_count": 3,
   "metadata": {},
   "outputs": [
    {
     "name": "stdout",
     "output_type": "stream",
     "text": [
      "('/home/karthik/HCI/codes/Data/punching/9.avi', 3)\n",
      "('/home/karthik/HCI/codes/Data/walking/A18.avi', 5)\n",
      "('/home/karthik/HCI/codes/Data/punching/2.avi', 3)\n",
      "('/home/karthik/HCI/codes/Data/pushing/A14.avi', 4)\n",
      "('/home/karthik/HCI/codes/Data/walking/A16.avi', 5)\n",
      "('/home/karthik/HCI/codes/Data/walking/5.avi', 5)\n",
      "('/home/karthik/HCI/codes/Data/walking/6.avi', 5)\n",
      "koppa\n",
      "Hugging\n"
     ]
    }
   ],
   "source": [
    "for pair in zip(train_files[:7], train_targets[:7]):\n",
    "    print(pair)\n",
    "\n",
    "print \"koppa\"\n",
    "print list[0]\n"
   ]
  },
  {
   "cell_type": "markdown",
   "metadata": {},
   "source": []
  },
  {
   "cell_type": "markdown",
   "metadata": {},
   "source": [
    "# Loading Sample "
   ]
  },
  {
   "cell_type": "code",
   "execution_count": 4,
   "metadata": {
    "scrolled": true
   },
   "outputs": [
    {
     "name": "stderr",
     "output_type": "stream",
     "text": [
      "/home/karthik/anaconda2/lib/python2.7/site-packages/h5py/__init__.py:34: FutureWarning: Conversion of the second argument of issubdtype from `float` to `np.floating` is deprecated. In future, it will be treated as `np.float64 == np.dtype(float).type`.\n",
      "  from ._conv import register_converters as _register_converters\n",
      "Using TensorFlow backend.\n",
      "100%|██████████| 1/1 [00:00<00:00,  4.34it/s]"
     ]
    },
    {
     "name": "stdout",
     "output_type": "stream",
     "text": [
      "('\\nShape of the sample data:', (1, 28, 480, 640, 3))\n"
     ]
    },
    {
     "name": "stderr",
     "output_type": "stream",
     "text": [
      "\n"
     ]
    },
    {
     "data": {
      "text/plain": [
       "<matplotlib.image.AxesImage at 0x7f8030270650>"
      ]
     },
     "execution_count": 4,
     "metadata": {},
     "output_type": "execute_result"
    },
    {
     "data": {
      "image/png": "[encoded data removed]",
      "text/plain": [
       "<matplotlib.figure.Figure at 0x7f80303079d0>"
      ]
     },
     "metadata": {},
     "output_type": "display_data"
    }
   ],
   "source": [
    "\n",
    "import numpy as np\n",
    "import matplotlib.pyplot as plt\n",
    "from utils import Videos\n",
    "%matplotlib inline\n",
    "sample_files = train_files[:1]\n",
    "reader = Videos(target_size=None, \n",
    "                to_gray=False)\n",
    "\n",
    "sample = reader.read_videos(sample_files)\n",
    "print('\\nShape of the sample data:', sample.shape)\n",
    "\n",
    "plt.imshow(sample[0][10])"
   ]
  },
  {
   "cell_type": "markdown",
   "metadata": {},
   "source": [
    "\n",
    "\n",
    "---"
   ]
  },
  {
   "cell_type": "markdown",
   "metadata": {},
   "source": [
    "## Pre-processing the Data\n",
    "\n"
   ]
  },
  {
   "cell_type": "code",
   "execution_count": 5,
   "metadata": {
    "collapsed": true
   },
   "outputs": [],
   "source": [
    "\n",
    "import numpy as np\n",
    "from keras.utils import to_categorical\n",
    "from utils import Videos\n",
    "\n",
    "\n",
    "reader = Videos(target_size=(128, 128), \n",
    "                to_gray=True, \n",
    "                max_frames=10, \n",
    "                extract_frames='middle', \n",
    "                normalize_pixels=(0, 1))"
   ]
  },
  {
   "cell_type": "code",
   "execution_count": 7,
   "metadata": {},
   "outputs": [
    {
     "name": "stderr",
     "output_type": "stream",
     "text": [
      "100%|██████████| 152/152 [01:57<00:00,  1.30it/s]\n"
     ]
    },
    {
     "name": "stdout",
     "output_type": "stream",
     "text": [
      "('Shape of training data:', (152, 10, 128, 128, 1))\n",
      "('Shape of training labels:', (152, 7))\n"
     ]
    }
   ],
   "source": [
    "\n",
    "X_train = reader.read_videos(train_files)\n",
    "y_train = to_categorical(train_targets, num_classes=7)\n",
    "print('Shape of training data:', X_train.shape)\n",
    "print('Shape of training labels:', y_train.shape)"
   ]
  },
  {
   "cell_type": "code",
   "execution_count": 6,
   "metadata": {},
   "outputs": [
    {
     "name": "stderr",
     "output_type": "stream",
     "text": [
      "100%|██████████| 76/76 [00:53<00:00,  1.41it/s]"
     ]
    },
    {
     "name": "stdout",
     "output_type": "stream",
     "text": [
      "('Shape of validation data:', (76, 10, 128, 128, 1))\n",
      "('Shape of validation labels:', (76, 7))\n"
     ]
    },
    {
     "name": "stderr",
     "output_type": "stream",
     "text": [
      "\n"
     ]
    }
   ],
   "source": [
    "\n",
    "X_valid = reader.read_videos(valid_files)\n",
    "y_valid = to_categorical(valid_targets, num_classes=7)\n",
    "print('Shape of validation data:', X_valid.shape)\n",
    "print('Shape of validation labels:', y_valid.shape)"
   ]
  },
  {
   "cell_type": "code",
   "execution_count": 53,
   "metadata": {},
   "outputs": [
    {
     "name": "stdout",
     "output_type": "stream",
     "text": [
      "[[0. 0. 0. ... 0. 0. 0.]\n",
      " [0. 0. 0. ... 0. 1. 0.]\n",
      " [0. 0. 0. ... 0. 0. 0.]\n",
      " ...\n",
      " [0. 0. 0. ... 1. 0. 0.]\n",
      " [0. 1. 0. ... 0. 0. 0.]\n",
      " [0. 0. 0. ... 0. 1. 0.]]\n"
     ]
    }
   ],
   "source": [
    "print y_train"
   ]
  },
  {
   "cell_type": "code",
   "execution_count": 8,
   "metadata": {},
   "outputs": [
    {
     "name": "stderr",
     "output_type": "stream",
     "text": [
      "0it [00:00, ?it/s]\n"
     ]
    },
    {
     "ename": "ValueError",
     "evalue": "need at least one array to concatenate",
     "output_type": "error",
     "traceback": [
      "\u001b[0;31m---------------------------------------------------------------------------\u001b[0m",
      "\u001b[0;31mValueError\u001b[0m                                Traceback (most recent call last)",
      "\u001b[0;32m<ipython-input-8-65a709fc1c06>\u001b[0m in \u001b[0;36m<module>\u001b[0;34m()\u001b[0m\n\u001b[1;32m      1\u001b[0m \u001b[0;34m\u001b[0m\u001b[0m\n\u001b[0;32m----> 2\u001b[0;31m \u001b[0mX_test\u001b[0m \u001b[0;34m=\u001b[0m \u001b[0mreader\u001b[0m\u001b[0;34m.\u001b[0m\u001b[0mread_videos\u001b[0m\u001b[0;34m(\u001b[0m\u001b[0mtest_files\u001b[0m\u001b[0;34m)\u001b[0m\u001b[0;34m\u001b[0m\u001b[0m\n\u001b[0m\u001b[1;32m      3\u001b[0m \u001b[0my_test\u001b[0m \u001b[0;34m=\u001b[0m \u001b[0mto_categorical\u001b[0m\u001b[0;34m(\u001b[0m\u001b[0mtest_targets\u001b[0m\u001b[0;34m,\u001b[0m \u001b[0mnum_classes\u001b[0m\u001b[0;34m=\u001b[0m\u001b[0;36m7\u001b[0m\u001b[0;34m)\u001b[0m\u001b[0;34m\u001b[0m\u001b[0m\n\u001b[1;32m      4\u001b[0m \u001b[0;32mprint\u001b[0m\u001b[0;34m(\u001b[0m\u001b[0;34m'Shape of testing data:'\u001b[0m\u001b[0;34m,\u001b[0m \u001b[0mX_test\u001b[0m\u001b[0;34m.\u001b[0m\u001b[0mshape\u001b[0m\u001b[0;34m)\u001b[0m\u001b[0;34m\u001b[0m\u001b[0m\n\u001b[1;32m      5\u001b[0m \u001b[0;32mprint\u001b[0m\u001b[0;34m(\u001b[0m\u001b[0;34m'Shape of testing labels:'\u001b[0m\u001b[0;34m,\u001b[0m \u001b[0my_test\u001b[0m\u001b[0;34m.\u001b[0m\u001b[0mshape\u001b[0m\u001b[0;34m)\u001b[0m\u001b[0;34m\u001b[0m\u001b[0m\n",
      "\u001b[0;32m/home/karthik/HCI/codes/utils.pyc\u001b[0m in \u001b[0;36mread_videos\u001b[0;34m(self, paths)\u001b[0m\n\u001b[1;32m     71\u001b[0m         ]\n\u001b[1;32m     72\u001b[0m \u001b[0;34m\u001b[0m\u001b[0m\n\u001b[0;32m---> 73\u001b[0;31m         \u001b[0mtensor\u001b[0m \u001b[0;34m=\u001b[0m \u001b[0mnp\u001b[0m\u001b[0;34m.\u001b[0m\u001b[0mvstack\u001b[0m\u001b[0;34m(\u001b[0m\u001b[0mlist_of_videos\u001b[0m\u001b[0;34m)\u001b[0m\u001b[0;34m\u001b[0m\u001b[0m\n\u001b[0m\u001b[1;32m     74\u001b[0m \u001b[0;34m\u001b[0m\u001b[0m\n\u001b[1;32m     75\u001b[0m         \u001b[0;32mif\u001b[0m \u001b[0mself\u001b[0m\u001b[0;34m.\u001b[0m\u001b[0mnormalize_pixels\u001b[0m \u001b[0;34m!=\u001b[0m \u001b[0mNone\u001b[0m\u001b[0;34m:\u001b[0m\u001b[0;34m\u001b[0m\u001b[0m\n",
      "\u001b[0;32m/home/karthik/anaconda2/lib/python2.7/site-packages/numpy/core/shape_base.pyc\u001b[0m in \u001b[0;36mvstack\u001b[0;34m(tup)\u001b[0m\n\u001b[1;32m    232\u001b[0m \u001b[0;34m\u001b[0m\u001b[0m\n\u001b[1;32m    233\u001b[0m     \"\"\"\n\u001b[0;32m--> 234\u001b[0;31m     \u001b[0;32mreturn\u001b[0m \u001b[0m_nx\u001b[0m\u001b[0;34m.\u001b[0m\u001b[0mconcatenate\u001b[0m\u001b[0;34m(\u001b[0m\u001b[0;34m[\u001b[0m\u001b[0matleast_2d\u001b[0m\u001b[0;34m(\u001b[0m\u001b[0m_m\u001b[0m\u001b[0;34m)\u001b[0m \u001b[0;32mfor\u001b[0m \u001b[0m_m\u001b[0m \u001b[0;32min\u001b[0m \u001b[0mtup\u001b[0m\u001b[0;34m]\u001b[0m\u001b[0;34m,\u001b[0m \u001b[0;36m0\u001b[0m\u001b[0;34m)\u001b[0m\u001b[0;34m\u001b[0m\u001b[0m\n\u001b[0m\u001b[1;32m    235\u001b[0m \u001b[0;34m\u001b[0m\u001b[0m\n\u001b[1;32m    236\u001b[0m \u001b[0;32mdef\u001b[0m \u001b[0mhstack\u001b[0m\u001b[0;34m(\u001b[0m\u001b[0mtup\u001b[0m\u001b[0;34m)\u001b[0m\u001b[0;34m:\u001b[0m\u001b[0;34m\u001b[0m\u001b[0m\n",
      "\u001b[0;31mValueError\u001b[0m: need at least one array to concatenate"
     ]
    }
   ],
   "source": [
    "\n",
    "X_test = reader.read_videos(test_files)\n",
    "y_test = to_categorical(test_targets, num_classes=7)\n",
    "print('Shape of testing data:', X_test.shape)\n",
    "print('Shape of testing labels:', y_test.shape)"
   ]
  },
  {
   "cell_type": "code",
   "execution_count": 8,
   "metadata": {},
   "outputs": [
    {
     "name": "stdout",
     "output_type": "stream",
     "text": [
      "('\\nShape of the preprocessed data:', (152, 10, 128, 128, 1))\n"
     ]
    },
    {
     "data": {
      "image/png": "[encoded data removed]",
      "text/plain": [
       "<matplotlib.figure.Figure at 0x7f807b073710>"
      ]
     },
     "metadata": {},
     "output_type": "display_data"
    }
   ],
   "source": [
    "import matplotlib.pyplot as plt\n",
    "%matplotlib inline\n",
    "\n",
    "\n",
    "plt.imshow(np.squeeze(X_train[0][0], axis=2), cmap='gray')\n",
    "print('\\nShape of the preprocessed data:', X_train.shape)"
   ]
  },
  {
   "cell_type": "markdown",
   "metadata": {},
   "source": [
    "The shape of the training data is **(152, 10, 128, 128, 1)**\n",
    "\n",
    "This indicates that - \n",
    "\n",
    "- There are **152 videos**.\n",
    "- The video has **exactly 10 frames**.\n",
    "- The dimension of **each frame is 128x128 pixels**.\n",
    "- There is **only 1 channel** for each frame, i.e., all videos are gray scale\n",
    "\n",
    "---"
   ]
  },
  {
   "cell_type": "markdown",
   "metadata": {},
   "source": [
    "## Model Construction\n",
    "\n",
    "### Model - 1\n"
   ]
  },
  {
   "cell_type": "code",
   "execution_count": 9,
   "metadata": {},
   "outputs": [
    {
     "name": "stdout",
     "output_type": "stream",
     "text": [
      "_________________________________________________________________\n",
      "Layer (type)                 Output Shape              Param #   \n",
      "=================================================================\n",
      "conv3d_1 (Conv3D)            (None, 2, 128, 128, 16)   1456      \n",
      "_________________________________________________________________\n",
      "max_pooling3d_1 (MaxPooling3 (None, 2, 64, 64, 16)     0         \n",
      "_________________________________________________________________\n",
      "conv3d_2 (Conv3D)            (None, 1, 64, 64, 64)     46144     \n",
      "_________________________________________________________________\n",
      "max_pooling3d_2 (MaxPooling3 (None, 1, 32, 32, 64)     0         \n",
      "_________________________________________________________________\n",
      "conv3d_3 (Conv3D)            (None, 1, 32, 32, 256)    737536    \n",
      "_________________________________________________________________\n",
      "max_pooling3d_3 (MaxPooling3 (None, 1, 16, 16, 256)    0         \n",
      "_________________________________________________________________\n",
      "global_average_pooling3d_1 ( (None, 256)               0         \n",
      "_________________________________________________________________\n",
      "dense_1 (Dense)              (None, 32)                8224      \n",
      "_________________________________________________________________\n",
      "dense_2 (Dense)              (None, 7)                 231       \n",
      "=================================================================\n",
      "Total params: 793,591\n",
      "Trainable params: 793,591\n",
      "Non-trainable params: 0\n",
      "_________________________________________________________________\n"
     ]
    }
   ],
   "source": [
    "from keras.models import Sequential\n",
    "import keras.layers.advanced_activations\n",
    "from keras.layers import Conv3D, MaxPooling3D, GlobalAveragePooling3D\n",
    "from keras.layers.core import Dense\n",
    "model = Sequential()\n",
    "\n",
    "\n",
    "model.add(Conv3D(filters=16, kernel_size=(10, 3, 3), strides=(5, 1, 1), padding='same', activation='tanh', \n",
    "                 input_shape=X_train.shape[1:]))\n",
    "model.add(MaxPooling3D(pool_size=2, strides=(1, 2, 2), padding='same'))\n",
    "\n",
    "model.add(Conv3D(filters=64, kernel_size=(5, 3, 3), strides=(3, 1, 1), padding='same', activation='tanh'))\n",
    "model.add(MaxPooling3D(pool_size=2, strides=(1, 2, 2), padding='same'))\n",
    "\n",
    "model.add(Conv3D(filters=256, kernel_size=(5, 3, 3), strides=(3, 1, 1), padding='same', activation='relu'))\n",
    "model.add(MaxPooling3D(pool_size=2, strides=(1, 2, 2), padding='same'))\n",
    "\n",
    "model.add(GlobalAveragePooling3D())\n",
    "\n",
    "model.add(Dense(32, activation='tanh'))\n",
    "\n",
    "model.add(Dense(7, activation='softmax'))\n",
    "\n",
    "model.summary()"
   ]
  },
  {
   "cell_type": "markdown",
   "metadata": {},
   "source": [
    "### Training Model - 1\n"
   ]
  },
  {
   "cell_type": "code",
   "execution_count": 11,
   "metadata": {
    "scrolled": true
   },
   "outputs": [],
   "source": [
    "from keras.callbacks import ModelCheckpoint\n",
    "\n",
    "model.compile(loss='categorical_crossentropy', optimizer='adam', metrics=['accuracy'])\n",
    "\n",
    "checkpoint = ModelCheckpoint(filepath='Model_1.weights.best.hdf5', save_best_only=True, verbose=1)\n",
    "\n",
    "#history = model.fit(X_train, y_train, batch_size=16, epochs=40,validation_data=(X_valid, y_valid), verbose=2, callbacks=[checkpoint])"
   ]
  },
  {
   "cell_type": "markdown",
   "metadata": {},
   "source": [
    "### Evaluating Model - 1\n"
   ]
  },
  {
   "cell_type": "code",
   "execution_count": 12,
   "metadata": {},
   "outputs": [
    {
     "name": "stdout",
     "output_type": "stream",
     "text": [
      "Accuracy on test data: 63.16%\n",
      "76/76 [==============================] - 0s 4ms/step\n",
      "('The action is: for image', 0, 'is', 'kicking', 'but is actually', 'pushing')\n",
      "('The action is: for image', 1, 'is', 'walking away', 'but is actually', 'walking')\n",
      "('The action is: for image', 2, 'is', 'kicking', 'but is actually', 'kicking')\n",
      "('The action is: for image', 3, 'is', 'punching', 'but is actually', 'punching')\n",
      "('The action is: for image', 4, 'is', 'kicking', 'but is actually', 'kicking')\n",
      "('The action is: for image', 5, 'is', 'punching', 'but is actually', 'punching')\n",
      "('The action is: for image', 6, 'is', 'walking away', 'but is actually', 'walking away')\n",
      "('The action is: for image', 7, 'is', 'kicking', 'but is actually', 'kicking')\n",
      "('The action is: for image', 8, 'is', 'kicking', 'but is actually', 'kicking')\n",
      "('The action is: for image', 9, 'is', 'walking away', 'but is actually', 'walking away')\n",
      "('The action is: for image', 10, 'is', 'walking away', 'but is actually', 'walking away')\n",
      "('The action is: for image', 11, 'is', 'kicking', 'but is actually', 'kicking')\n",
      "('The action is: for image', 12, 'is', 'walking', 'but is actually', 'walking')\n",
      "('The action is: for image', 13, 'is', 'walking away', 'but is actually', 'walking')\n",
      "('The action is: for image', 14, 'is', 'punching', 'but is actually', 'pushing')\n",
      "('The action is: for image', 15, 'is', 'walking', 'but is actually', 'walking')\n",
      "('The action is: for image', 16, 'is', 'walking away', 'but is actually', 'walking')\n",
      "('The action is: for image', 17, 'is', 'walking away', 'but is actually', 'walking away')\n",
      "('The action is: for image', 18, 'is', 'walking away', 'but is actually', 'walking away')\n",
      "('The action is: for image', 19, 'is', 'walking', 'but is actually', 'walking away')\n",
      "('The action is: for image', 20, 'is', 'Hugging', 'but is actually', 'Hugging')\n",
      "('The action is: for image', 21, 'is', 'walking away', 'but is actually', 'walking away')\n",
      "('The action is: for image', 22, 'is', 'handshake', 'but is actually', 'handshake')\n",
      "('The action is: for image', 23, 'is', 'punching', 'but is actually', 'punching')\n",
      "('The action is: for image', 24, 'is', 'pushing', 'but is actually', 'pushing')\n",
      "('The action is: for image', 25, 'is', 'punching', 'but is actually', 'punching')\n",
      "('The action is: for image', 26, 'is', 'punching', 'but is actually', 'punching')\n",
      "('The action is: for image', 27, 'is', 'walking', 'but is actually', 'walking')\n",
      "('The action is: for image', 28, 'is', 'kicking', 'but is actually', 'kicking')\n",
      "('The action is: for image', 29, 'is', 'pushing', 'but is actually', 'punching')\n",
      "('The action is: for image', 30, 'is', 'pushing', 'but is actually', 'punching')\n",
      "('The action is: for image', 31, 'is', 'pushing', 'but is actually', 'pushing')\n",
      "('The action is: for image', 32, 'is', 'pushing', 'but is actually', 'Hugging')\n",
      "('The action is: for image', 33, 'is', 'pushing', 'but is actually', 'pushing')\n",
      "('The action is: for image', 34, 'is', 'punching', 'but is actually', 'pushing')\n",
      "('The action is: for image', 35, 'is', 'kicking', 'but is actually', 'pushing')\n",
      "('The action is: for image', 36, 'is', 'walking away', 'but is actually', 'walking away')\n",
      "('The action is: for image', 37, 'is', 'handshake', 'but is actually', 'handshake')\n",
      "('The action is: for image', 38, 'is', 'walking away', 'but is actually', 'walking')\n",
      "('The action is: for image', 39, 'is', 'kicking', 'but is actually', 'kicking')\n",
      "('The action is: for image', 40, 'is', 'pushing', 'but is actually', 'pushing')\n",
      "('The action is: for image', 41, 'is', 'handshake', 'but is actually', 'pushing')\n",
      "('The action is: for image', 42, 'is', 'walking away', 'but is actually', 'walking away')\n",
      "('The action is: for image', 43, 'is', 'punching', 'but is actually', 'punching')\n",
      "('The action is: for image', 44, 'is', 'handshake', 'but is actually', 'kicking')\n",
      "('The action is: for image', 45, 'is', 'Hugging', 'but is actually', 'pushing')\n",
      "('The action is: for image', 46, 'is', 'walking away', 'but is actually', 'walking away')\n",
      "('The action is: for image', 47, 'is', 'punching', 'but is actually', 'pushing')\n",
      "('The action is: for image', 48, 'is', 'walking away', 'but is actually', 'walking')\n",
      "('The action is: for image', 49, 'is', 'Hugging', 'but is actually', 'pushing')\n",
      "('The action is: for image', 50, 'is', 'walking away', 'but is actually', 'walking')\n",
      "('The action is: for image', 51, 'is', 'pushing', 'but is actually', 'walking away')\n",
      "('The action is: for image', 52, 'is', 'walking away', 'but is actually', 'walking away')\n",
      "('The action is: for image', 53, 'is', 'pushing', 'but is actually', 'pushing')\n",
      "('The action is: for image', 54, 'is', 'walking', 'but is actually', 'walking')\n",
      "('The action is: for image', 55, 'is', 'walking', 'but is actually', 'walking away')\n",
      "('The action is: for image', 56, 'is', 'Hugging', 'but is actually', 'handshake')\n",
      "('The action is: for image', 57, 'is', 'punching', 'but is actually', 'punching')\n",
      "('The action is: for image', 58, 'is', 'walking away', 'but is actually', 'Hugging')\n",
      "('The action is: for image', 59, 'is', 'walking away', 'but is actually', 'walking away')\n",
      "('The action is: for image', 60, 'is', 'pushing', 'but is actually', 'pushing')\n",
      "('The action is: for image', 61, 'is', 'handshake', 'but is actually', 'handshake')\n",
      "('The action is: for image', 62, 'is', 'walking', 'but is actually', 'walking')\n",
      "('The action is: for image', 63, 'is', 'kicking', 'but is actually', 'kicking')\n",
      "('The action is: for image', 64, 'is', 'walking', 'but is actually', 'walking')\n",
      "('The action is: for image', 65, 'is', 'walking', 'but is actually', 'walking')\n",
      "('The action is: for image', 66, 'is', 'punching', 'but is actually', 'pushing')\n",
      "('The action is: for image', 67, 'is', 'Hugging', 'but is actually', 'Hugging')\n",
      "('The action is: for image', 68, 'is', 'punching', 'but is actually', 'kicking')\n",
      "('The action is: for image', 69, 'is', 'punching', 'but is actually', 'punching')\n",
      "('The action is: for image', 70, 'is', 'Hugging', 'but is actually', 'Hugging')\n",
      "('The action is: for image', 71, 'is', 'kicking', 'but is actually', 'kicking')\n",
      "('The action is: for image', 72, 'is', 'kicking', 'but is actually', 'kicking')\n",
      "('The action is: for image', 73, 'is', 'kicking', 'but is actually', 'pushing')\n",
      "('The action is: for image', 74, 'is', 'pushing', 'but is actually', 'Hugging')\n",
      "('The action is: for image', 75, 'is', 'walking away', 'but is actually', 'walking')\n",
      "f1 score on test data: 62.60%\n",
      "Precision on test data: 62.67%\n",
      "Recall on test data: 64.91%\n"
     ]
    }
   ],
   "source": [
    "from sklearn.metrics import f1_score, precision_score, recall_score, classification_report, confusion_matrix\n",
    "model.load_weights('Model_1.weights.best.hdf5')\n",
    "(loss, accuracy) = model.evaluate(X_valid, y_valid, batch_size=16, verbose=0)\n",
    "print('Accuracy on test data: {:.2f}%'.format(accuracy * 100))\n",
    "y_pred = model.predict_classes(X_valid)\n",
    "for i in range(len(y_pred)):\n",
    "    print ('The action is: for image',i,\"is\",list[y_pred[i]],\"but is actually\",list[valid_targets[i]])\n",
    "print('f1 score on test data: {:.2f}%'.format(f1_score(valid_targets, y_pred, average=\"macro\") * 100))\n",
    "print('Precision on test data: {:.2f}%'.format(precision_score(valid_targets, y_pred, average=\"macro\") * 100))\n",
    "print('Recall on test data: {:.2f}%'.format(recall_score(valid_targets, y_pred, average=\"macro\") * 100))   \n"
   ]
  },
  {
   "cell_type": "code",
   "execution_count": 13,
   "metadata": {},
   "outputs": [
    {
     "name": "stdout",
     "output_type": "stream",
     "text": [
      "1/1 [==============================] - 0s 7ms/step\n",
      "punching punching\n",
      "1/1 [==============================] - 0s 4ms/step\n",
      "walking punching\n"
     ]
    }
   ],
   "source": [
    "y_pred = model.predict_classes(X_train[0:1])\n",
    "print list[y_pred[0]],list[train_targets[0]]\n",
    "y_pred = model.predict_classes(X_train[1:2])\n",
    "print list[y_pred[0]],list[train_targets[0]]"
   ]
  },
  {
   "cell_type": "code",
   "execution_count": 14,
   "metadata": {},
   "outputs": [
    {
     "name": "stderr",
     "output_type": "stream",
     "text": [
      "\r",
      "  0%|          | 0/1 [00:00<?, ?it/s]"
     ]
    },
    {
     "name": "stdout",
     "output_type": "stream",
     "text": [
      "['/home/karthik/HCI/codes/Sample/handshake/VID_20180308_130014196.mp4'] [1]\n"
     ]
    },
    {
     "name": "stderr",
     "output_type": "stream",
     "text": [
      "\r",
      "100%|██████████| 1/1 [00:03<00:00,  3.11s/it]"
     ]
    },
    {
     "name": "stdout",
     "output_type": "stream",
     "text": [
      "('Shape of training data:', (1, 10, 128, 128, 1))\n",
      "('Shape of training labels:', (152, 7))\n"
     ]
    },
    {
     "name": "stderr",
     "output_type": "stream",
     "text": [
      "\n"
     ]
    }
   ],
   "source": [
    "data=load_files(os.getcwd() + r'/Sample', shuffle=False)\n",
    "newfiles = data['filenames']\n",
    "newtargets=[1]\n",
    "newtargets=np.array(newtargets)\n",
    "print newfiles,newtargets\n",
    "newtest = reader.read_videos(newfiles)\n",
    "#newlabel = to_categorical(newfiles, num_classes=7)\n",
    "print('Shape of training data:', newtest.shape)\n",
    "print('Shape of training labels:', y_train.shape)"
   ]
  },
  {
   "cell_type": "code",
   "execution_count": 49,
   "metadata": {},
   "outputs": [
    {
     "name": "stdout",
     "output_type": "stream",
     "text": [
      "('Shape of training labels:', (1, 7))\n",
      "('\\nShape of the preprocessed data:', (1, 10, 128, 128, 1))\n"
     ]
    },
    {
     "data": {
      "image/png": "[encoded data removed]",
      "text/plain": [
       "<matplotlib.figure.Figure at 0x7faef9f4a650>"
      ]
     },
     "metadata": {},
     "output_type": "display_data"
    }
   ],
   "source": [
    "newlabel= to_categorical(newtargets, num_classes=7)\n",
    "print('Shape of training labels:', newlabel.shape)\n",
    "import matplotlib.pyplot as plt\n",
    "%matplotlib inline\n",
    "\n",
    "\n",
    "plt.imshow(np.squeeze(newtest[0][0], axis=2), cmap='gray')\n",
    "print('\\nShape of the preprocessed data:', newtest.shape)"
   ]
  },
  {
   "cell_type": "code",
   "execution_count": 47,
   "metadata": {},
   "outputs": [
    {
     "name": "stdout",
     "output_type": "stream",
     "text": [
      "1/1 [==============================] - 0s 3ms/step\n",
      "handshake\n"
     ]
    }
   ],
   "source": [
    "y_newpred = model.predict_classes(newtest)\n"
   ]
  },
  {
   "cell_type": "code",
   "execution_count": 51,
   "metadata": {},
   "outputs": [
    {
     "name": "stdout",
     "output_type": "stream",
     "text": [
      "('The predicted value is', 'handshake', 'The actual is', 'handshake')\n"
     ]
    }
   ],
   "source": [
    "print (\"The predicted value is\",list[y_newpred[0]],\"The actual is\",list[newtargets[0]])"
   ]
  },
  {
   "cell_type": "code",
   "execution_count": 122,
   "metadata": {},
   "outputs": [
    {
     "data": {
      "text/plain": [
       "<matplotlib.legend.Legend at 0x7f7647d1f890>"
      ]
     },
     "execution_count": 122,
     "metadata": {},
     "output_type": "execute_result"
    },
    {
     "data": {
      "image/png": "[encoded data removed]",
      "text/plain": [
       "<matplotlib.figure.Figure at 0x7f7647e59a50>"
      ]
     },
     "metadata": {},
     "output_type": "display_data"
    }
   ],
   "source": [
    "# Making the plot larger\n",
    "plt.figure(figsize=(12, 8))\n",
    "\n",
    "loss = history.history['loss']                          \n",
    "val_loss = history.history['val_loss']                 \n",
    "epochs = range(1, 31)\n",
    "\n",
    "plt.plot(epochs, loss, 'ro-', label='Training Loss')\n",
    "plt.plot(epochs, val_loss, 'go-', label = 'Validation Loss')\n",
    "plt.legend()"
   ]
  },
  {
   "cell_type": "markdown",
   "metadata": {},
   "source": [
    "\n",
    "---"
   ]
  },
  {
   "cell_type": "markdown",
   "metadata": {},
   "source": [
    "## Model - 2"
   ]
  },
  {
   "cell_type": "code",
   "execution_count": 34,
   "metadata": {},
   "outputs": [
    {
     "name": "stdout",
     "output_type": "stream",
     "text": [
      "_________________________________________________________________\n",
      "Layer (type)                 Output Shape              Param #   \n",
      "=================================================================\n",
      "conv3d_16 (Conv3D)           (None, 2, 128, 128, 16)   1456      \n",
      "_________________________________________________________________\n",
      "max_pooling3d_16 (MaxPooling (None, 2, 64, 64, 16)     0         \n",
      "_________________________________________________________________\n",
      "conv3d_17 (Conv3D)           (None, 1, 64, 64, 64)     46144     \n",
      "_________________________________________________________________\n",
      "max_pooling3d_17 (MaxPooling (None, 1, 32, 32, 64)     0         \n",
      "_________________________________________________________________\n",
      "conv3d_18 (Conv3D)           (None, 1, 32, 32, 256)    737536    \n",
      "_________________________________________________________________\n",
      "max_pooling3d_18 (MaxPooling (None, 1, 16, 16, 256)    0         \n",
      "_________________________________________________________________\n",
      "global_average_pooling3d_6 ( (None, 256)               0         \n",
      "_________________________________________________________________\n",
      "dense_11 (Dense)             (None, 32)                8224      \n",
      "_________________________________________________________________\n",
      "dropout_6 (Dropout)          (None, 32)                0         \n",
      "_________________________________________________________________\n",
      "dense_12 (Dense)             (None, 7)                 231       \n",
      "=================================================================\n",
      "Total params: 793,591\n",
      "Trainable params: 793,591\n",
      "Non-trainable params: 0\n",
      "_________________________________________________________________\n"
     ]
    }
   ],
   "source": [
    "\n",
    "from keras.models import Sequential\n",
    "from keras.layers import Conv3D, MaxPooling3D, GlobalAveragePooling3D\n",
    "from keras.layers.core import Dense, Dropout\n",
    "\n",
    "\n",
    "model = Sequential()\n",
    "\n",
    "\n",
    "model.add(Conv3D(filters=16, kernel_size=(10, 3, 3), strides=(5, 1, 1), padding='same', activation='relu', \n",
    "                 input_shape=X_train.shape[1:]))\n",
    "model.add(MaxPooling3D(pool_size=2, strides=(1, 2, 2), padding='same'))\n",
    "\n",
    "model.add(Conv3D(filters=64, kernel_size=(5, 3, 3), strides=(3, 1, 1), padding='same', activation='tanh'))\n",
    "model.add(MaxPooling3D(pool_size=2, strides=(1, 2, 2), padding='same'))\n",
    "\n",
    "model.add(Conv3D(filters=256, kernel_size=(5, 3, 3), strides=(3, 1, 1), padding='same', activation='tanh'))\n",
    "model.add(MaxPooling3D(pool_size=2, strides=(1, 2, 2), padding='same'))\n",
    "\n",
    "model.add(GlobalAveragePooling3D())\n",
    "\n",
    "model.add(Dense(32, activation='relu'))\n",
    "\n",
    "model.add(Dropout(0.25))\n",
    "\n",
    "model.add(Dense(7, activation='softmax'))\n",
    "\n",
    "model.summary()"
   ]
  },
  {
   "cell_type": "markdown",
   "metadata": {},
   "source": []
  },
  {
   "cell_type": "code",
   "execution_count": 37,
   "metadata": {},
   "outputs": [
    {
     "name": "stdout",
     "output_type": "stream",
     "text": [
      "Train on 152 samples, validate on 76 samples\n",
      "Epoch 1/40\n",
      "Epoch 00001: val_loss improved from inf to 1.48796, saving model to Model_2.weights.best.hdf5\n",
      " - 1s - loss: 1.4041 - acc: 0.3947 - val_loss: 1.4880 - val_acc: 0.4079\n",
      "Epoch 2/40\n",
      "Epoch 00002: val_loss improved from 1.48796 to 1.36018, saving model to Model_2.weights.best.hdf5\n",
      " - 1s - loss: 1.1873 - acc: 0.4803 - val_loss: 1.3602 - val_acc: 0.4211\n",
      "Epoch 3/40\n",
      "Epoch 00003: val_loss did not improve\n",
      " - 1s - loss: 1.1900 - acc: 0.4408 - val_loss: 1.4030 - val_acc: 0.4211\n",
      "Epoch 4/40\n",
      "Epoch 00004: val_loss did not improve\n",
      " - 1s - loss: 1.1861 - acc: 0.5132 - val_loss: 1.3772 - val_acc: 0.4211\n",
      "Epoch 5/40\n",
      "Epoch 00005: val_loss improved from 1.36018 to 1.32243, saving model to Model_2.weights.best.hdf5\n",
      " - 1s - loss: 1.1184 - acc: 0.5066 - val_loss: 1.3224 - val_acc: 0.4079\n",
      "Epoch 6/40\n",
      "Epoch 00006: val_loss did not improve\n",
      " - 1s - loss: 1.1197 - acc: 0.5197 - val_loss: 1.3435 - val_acc: 0.4211\n",
      "Epoch 7/40\n",
      "Epoch 00007: val_loss did not improve\n",
      " - 1s - loss: 1.1412 - acc: 0.5197 - val_loss: 1.4010 - val_acc: 0.3947\n",
      "Epoch 8/40\n",
      "Epoch 00008: val_loss did not improve\n",
      " - 1s - loss: 1.1398 - acc: 0.4868 - val_loss: 1.4663 - val_acc: 0.3421\n",
      "Epoch 9/40\n",
      "Epoch 00009: val_loss did not improve\n",
      " - 1s - loss: 1.1485 - acc: 0.4803 - val_loss: 1.3449 - val_acc: 0.4211\n",
      "Epoch 10/40\n",
      "Epoch 00010: val_loss improved from 1.32243 to 1.31358, saving model to Model_2.weights.best.hdf5\n",
      " - 1s - loss: 1.1421 - acc: 0.4737 - val_loss: 1.3136 - val_acc: 0.4474\n",
      "Epoch 11/40\n",
      "Epoch 00011: val_loss improved from 1.31358 to 1.29544, saving model to Model_2.weights.best.hdf5\n",
      " - 1s - loss: 1.0792 - acc: 0.5592 - val_loss: 1.2954 - val_acc: 0.4342\n",
      "Epoch 12/40\n",
      "Epoch 00012: val_loss did not improve\n",
      " - 1s - loss: 1.1349 - acc: 0.4934 - val_loss: 1.3552 - val_acc: 0.4474\n",
      "Epoch 13/40\n",
      "Epoch 00013: val_loss did not improve\n",
      " - 1s - loss: 1.1377 - acc: 0.5263 - val_loss: 1.3204 - val_acc: 0.4211\n",
      "Epoch 14/40\n",
      "Epoch 00014: val_loss did not improve\n",
      " - 1s - loss: 1.0930 - acc: 0.5132 - val_loss: 1.3343 - val_acc: 0.4079\n",
      "Epoch 15/40\n",
      "Epoch 00015: val_loss did not improve\n",
      " - 1s - loss: 1.1025 - acc: 0.4671 - val_loss: 1.3164 - val_acc: 0.4211\n",
      "Epoch 16/40\n",
      "Epoch 00016: val_loss did not improve\n",
      " - 1s - loss: 1.0876 - acc: 0.5132 - val_loss: 1.3742 - val_acc: 0.4342\n",
      "Epoch 17/40\n",
      "Epoch 00017: val_loss did not improve\n",
      " - 1s - loss: 1.0649 - acc: 0.5000 - val_loss: 1.3089 - val_acc: 0.4342\n",
      "Epoch 18/40\n",
      "Epoch 00018: val_loss did not improve\n",
      " - 1s - loss: 1.0545 - acc: 0.5395 - val_loss: 1.3164 - val_acc: 0.4211\n",
      "Epoch 19/40\n",
      "Epoch 00019: val_loss improved from 1.29544 to 1.29436, saving model to Model_2.weights.best.hdf5\n",
      " - 1s - loss: 1.0575 - acc: 0.5132 - val_loss: 1.2944 - val_acc: 0.4737\n",
      "Epoch 20/40\n",
      "Epoch 00020: val_loss did not improve\n",
      " - 1s - loss: 1.0468 - acc: 0.5592 - val_loss: 1.4320 - val_acc: 0.4474\n",
      "Epoch 21/40\n",
      "Epoch 00021: val_loss did not improve\n",
      " - 1s - loss: 1.0721 - acc: 0.5395 - val_loss: 1.3031 - val_acc: 0.4737\n",
      "Epoch 22/40\n",
      "Epoch 00022: val_loss did not improve\n",
      " - 1s - loss: 0.9989 - acc: 0.6316 - val_loss: 1.3917 - val_acc: 0.4342\n",
      "Epoch 23/40\n",
      "Epoch 00023: val_loss did not improve\n",
      " - 1s - loss: 1.0162 - acc: 0.5329 - val_loss: 1.3953 - val_acc: 0.4211\n",
      "Epoch 24/40\n",
      "Epoch 00024: val_loss improved from 1.29436 to 1.27711, saving model to Model_2.weights.best.hdf5\n",
      " - 1s - loss: 1.0881 - acc: 0.5132 - val_loss: 1.2771 - val_acc: 0.4211\n",
      "Epoch 25/40\n",
      "Epoch 00025: val_loss did not improve\n",
      " - 1s - loss: 1.0422 - acc: 0.5000 - val_loss: 1.3694 - val_acc: 0.4474\n",
      "Epoch 26/40\n",
      "Epoch 00026: val_loss did not improve\n",
      " - 1s - loss: 1.0624 - acc: 0.5132 - val_loss: 1.2840 - val_acc: 0.4211\n",
      "Epoch 27/40\n",
      "Epoch 00027: val_loss did not improve\n",
      " - 1s - loss: 0.9907 - acc: 0.5526 - val_loss: 1.3421 - val_acc: 0.4211\n",
      "Epoch 28/40\n",
      "Epoch 00028: val_loss did not improve\n",
      " - 1s - loss: 0.9748 - acc: 0.5066 - val_loss: 1.3296 - val_acc: 0.4605\n",
      "Epoch 29/40\n",
      "Epoch 00029: val_loss did not improve\n",
      " - 1s - loss: 0.9915 - acc: 0.5987 - val_loss: 1.3416 - val_acc: 0.4474\n",
      "Epoch 30/40\n",
      "Epoch 00030: val_loss did not improve\n",
      " - 1s - loss: 0.9613 - acc: 0.5395 - val_loss: 1.3146 - val_acc: 0.4737\n",
      "Epoch 31/40\n",
      "Epoch 00031: val_loss did not improve\n",
      " - 1s - loss: 1.0121 - acc: 0.5658 - val_loss: 1.4909 - val_acc: 0.4868\n",
      "Epoch 32/40\n",
      "Epoch 00032: val_loss did not improve\n",
      " - 1s - loss: 0.9795 - acc: 0.5263 - val_loss: 1.3019 - val_acc: 0.4342\n",
      "Epoch 33/40\n",
      "Epoch 00033: val_loss did not improve\n",
      " - 1s - loss: 0.9318 - acc: 0.5526 - val_loss: 1.3575 - val_acc: 0.4605\n",
      "Epoch 34/40\n",
      "Epoch 00034: val_loss did not improve\n",
      " - 1s - loss: 1.0557 - acc: 0.4868 - val_loss: 1.3897 - val_acc: 0.4605\n",
      "Epoch 35/40\n",
      "Epoch 00035: val_loss did not improve\n",
      " - 1s - loss: 0.9962 - acc: 0.5789 - val_loss: 1.3621 - val_acc: 0.4474\n",
      "Epoch 36/40\n",
      "Epoch 00036: val_loss did not improve\n",
      " - 1s - loss: 0.9749 - acc: 0.5658 - val_loss: 1.3172 - val_acc: 0.4605\n",
      "Epoch 37/40\n",
      "Epoch 00037: val_loss did not improve\n",
      " - 1s - loss: 0.9334 - acc: 0.6250 - val_loss: 1.3276 - val_acc: 0.5526\n",
      "Epoch 38/40\n",
      "Epoch 00038: val_loss did not improve\n",
      " - 1s - loss: 0.9221 - acc: 0.6118 - val_loss: 1.4399 - val_acc: 0.4474\n",
      "Epoch 39/40\n",
      "Epoch 00039: val_loss did not improve\n",
      " - 1s - loss: 0.9597 - acc: 0.5592 - val_loss: 1.3210 - val_acc: 0.4737\n",
      "Epoch 40/40\n",
      "Epoch 00040: val_loss did not improve\n",
      " - 1s - loss: 0.9250 - acc: 0.5855 - val_loss: 1.5592 - val_acc: 0.4079\n"
     ]
    }
   ],
   "source": [
    "from keras.callbacks import ModelCheckpoint\n",
    "\n",
    "model.compile(loss='categorical_crossentropy', optimizer='adam', metrics=['accuracy'])\n",
    "\n",
    "checkpoint = ModelCheckpoint(filepath='Model_2.weights.best.hdf5', save_best_only=True, verbose=1)\n",
    "\n",
    "history = model.fit(X_train, y_train, batch_size=16, epochs=40, \n",
    "                    validation_data=(X_valid, y_valid), verbose=2, callbacks=[checkpoint])"
   ]
  },
  {
   "cell_type": "markdown",
   "metadata": {},
   "source": []
  },
  {
   "cell_type": "code",
   "execution_count": 41,
   "metadata": {},
   "outputs": [
    {
     "name": "stdout",
     "output_type": "stream",
     "text": [
      "76/76 [==============================] - 0s 4ms/step\n",
      "Accuracy on test data: 44.74%\n",
      "\n",
      "[4 5 3 3 2 3 5 4 2 5 5 4 5 5 5 5 5 5 5 5 0 5 0 4 4 4 2 5 4 4 4 4 4 2 4 4 5\n",
      " 3 5 4 4 4 5 2 5 0 5 4 5 5 5 4 5 4 5 5 0 2 5 4 4 3 5 4 5 5 4 0 2 2 5 4 2 4\n",
      " 4 5]\n"
     ]
    }
   ],
   "source": [
    "model.load_weights('Model_2.weights.best.hdf5')\n",
    "\n",
    "(loss, accuracy) = model.evaluate(X_valid, y_valid, batch_size=16, verbose=0)\n",
    "y_pred = model.predict_classes(X_valid)\n",
    "print('Accuracy on test data: {:.2f}%'.format(accuracy * 100))\n",
    "print\n",
    "print y_pred\n"
   ]
  },
  {
   "cell_type": "markdown",
   "metadata": {
    "collapsed": true
   },
   "source": []
  },
  {
   "cell_type": "code",
   "execution_count": 127,
   "metadata": {},
   "outputs": [
    {
     "data": {
      "text/plain": [
       "<matplotlib.legend.Legend at 0x7f7647761d50>"
      ]
     },
     "execution_count": 127,
     "metadata": {},
     "output_type": "execute_result"
    },
    {
     "data": {
      "image/png": "[encoded data removed]",
      "text/plain": [
       "<matplotlib.figure.Figure at 0x7f76477d7210>"
      ]
     },
     "metadata": {},
     "output_type": "display_data"
    }
   ],
   "source": [
    "plt.figure(figsize=(12, 8))\n",
    "\n",
    "loss = history.history['loss']                          \n",
    "val_loss = history.history['val_loss']                  \n",
    "epochs = range(1, 36)\n",
    "\n",
    "plt.plot(epochs, loss, 'ro-', label='Training Loss')\n",
    "plt.plot(epochs, val_loss, 'go-', label = 'Validation Loss')\n",
    "plt.legend()"
   ]
  },
  {
   "cell_type": "markdown",
   "metadata": {},
   "source": []
  },
  {
   "cell_type": "markdown",
   "metadata": {},
   "source": [
    "## Extracting Particular Frames\n"
   ]
  },
  {
   "cell_type": "code",
   "execution_count": null,
   "metadata": {
    "collapsed": true
   },
   "outputs": [],
   "source": [
    "import numpy as np\n",
    "from keras.utils import to_categorical\n",
    "from utils import Videos\n",
    "\n",
    "reader = Videos(target_size=(128, 128), \n",
    "                to_gray=True, \n",
    "                max_frames=40, \n",
    "                extract_frames='first', \n",
    "                required_fps=5, \n",
    "                normalize_pixels=(-1, 1))"
   ]
  },
  {
   "cell_type": "code",
   "execution_count": null,
   "metadata": {
    "collapsed": true
   },
   "outputs": [],
   "source": [
    "X_train = reader.read_videos(train_files)\n",
    "y_train = to_categorical(train_targets, num_classes=6)\n",
    "print('Shape of training data:', X_train.shape)\n",
    "print('Shape of training labels:', y_train.shape)"
   ]
  },
  {
   "cell_type": "code",
   "execution_count": null,
   "metadata": {
    "collapsed": true
   },
   "outputs": [],
   "source": [
    "X_valid = reader.read_videos(valid_files)\n",
    "y_valid = to_categorical(valid_targets, num_classes=6)\n",
    "print('Shape of validation data:', X_valid.shape)\n",
    "print('Shape of validation labels:', y_valid.shape)"
   ]
  },
  {
   "cell_type": "code",
   "execution_count": null,
   "metadata": {
    "collapsed": true
   },
   "outputs": [],
   "source": [
    "X_test = reader.read_videos(test_files)\n",
    "y_test = to_categorical(test_targets, num_classes=6)\n",
    "print('Shape of testing data:', X_test.shape)\n",
    "print('Shape of testing labels:', y_test.shape)"
   ]
  },
  {
   "cell_type": "markdown",
   "metadata": {},
   "source": []
  },
  {
   "cell_type": "code",
   "execution_count": 69,
   "metadata": {},
   "outputs": [
    {
     "ename": "ValueError",
     "evalue": "Negative dimension size caused by subtracting 2 from 1 for 'conv3d_57/convolution' (op: 'Conv3D') with input shapes: [?,1,15,15,256], [2,3,3,256,1024].",
     "output_type": "error",
     "traceback": [
      "\u001b[0;31m---------------------------------------------------------------------------\u001b[0m",
      "\u001b[0;31mValueError\u001b[0m                                Traceback (most recent call last)",
      "\u001b[0;32m<ipython-input-69-82cde282a6a1>\u001b[0m in \u001b[0;36m<module>\u001b[0;34m()\u001b[0m\n\u001b[1;32m     15\u001b[0m \u001b[0mmodel\u001b[0m\u001b[0;34m.\u001b[0m\u001b[0madd\u001b[0m\u001b[0;34m(\u001b[0m\u001b[0mMaxPooling3D\u001b[0m\u001b[0;34m(\u001b[0m\u001b[0mpool_size\u001b[0m\u001b[0;34m=\u001b[0m\u001b[0;36m2\u001b[0m\u001b[0;34m,\u001b[0m \u001b[0mstrides\u001b[0m\u001b[0;34m=\u001b[0m\u001b[0;34m(\u001b[0m\u001b[0;36m2\u001b[0m\u001b[0;34m,\u001b[0m \u001b[0;36m2\u001b[0m\u001b[0;34m,\u001b[0m \u001b[0;36m2\u001b[0m\u001b[0;34m)\u001b[0m\u001b[0;34m,\u001b[0m \u001b[0mpadding\u001b[0m\u001b[0;34m=\u001b[0m\u001b[0;34m'same'\u001b[0m\u001b[0;34m)\u001b[0m\u001b[0;34m)\u001b[0m\u001b[0;34m\u001b[0m\u001b[0m\n\u001b[1;32m     16\u001b[0m \u001b[0;34m\u001b[0m\u001b[0m\n\u001b[0;32m---> 17\u001b[0;31m \u001b[0mmodel\u001b[0m\u001b[0;34m.\u001b[0m\u001b[0madd\u001b[0m\u001b[0;34m(\u001b[0m\u001b[0mConv3D\u001b[0m\u001b[0;34m(\u001b[0m\u001b[0mfilters\u001b[0m\u001b[0;34m=\u001b[0m\u001b[0;36m1024\u001b[0m\u001b[0;34m,\u001b[0m \u001b[0mkernel_size\u001b[0m\u001b[0;34m=\u001b[0m\u001b[0;34m(\u001b[0m\u001b[0;36m2\u001b[0m\u001b[0;34m,\u001b[0m \u001b[0;36m3\u001b[0m\u001b[0;34m,\u001b[0m \u001b[0;36m3\u001b[0m\u001b[0;34m)\u001b[0m\u001b[0;34m,\u001b[0m \u001b[0mstrides\u001b[0m\u001b[0;34m=\u001b[0m\u001b[0;34m(\u001b[0m\u001b[0;36m1\u001b[0m\u001b[0;34m,\u001b[0m \u001b[0;36m1\u001b[0m\u001b[0;34m,\u001b[0m \u001b[0;36m1\u001b[0m\u001b[0;34m)\u001b[0m\u001b[0;34m,\u001b[0m \u001b[0mpadding\u001b[0m\u001b[0;34m=\u001b[0m\u001b[0;34m'valid'\u001b[0m\u001b[0;34m,\u001b[0m \u001b[0mactivation\u001b[0m\u001b[0;34m=\u001b[0m\u001b[0;34m'relu'\u001b[0m\u001b[0;34m)\u001b[0m\u001b[0;34m)\u001b[0m\u001b[0;34m\u001b[0m\u001b[0m\n\u001b[0m\u001b[1;32m     18\u001b[0m \u001b[0mmodel\u001b[0m\u001b[0;34m.\u001b[0m\u001b[0madd\u001b[0m\u001b[0;34m(\u001b[0m\u001b[0mMaxPooling3D\u001b[0m\u001b[0;34m(\u001b[0m\u001b[0mpool_size\u001b[0m\u001b[0;34m=\u001b[0m\u001b[0;36m2\u001b[0m\u001b[0;34m,\u001b[0m \u001b[0mstrides\u001b[0m\u001b[0;34m=\u001b[0m\u001b[0;34m(\u001b[0m\u001b[0;36m2\u001b[0m\u001b[0;34m,\u001b[0m \u001b[0;36m2\u001b[0m\u001b[0;34m,\u001b[0m \u001b[0;36m2\u001b[0m\u001b[0;34m)\u001b[0m\u001b[0;34m,\u001b[0m \u001b[0mpadding\u001b[0m\u001b[0;34m=\u001b[0m\u001b[0;34m'same'\u001b[0m\u001b[0;34m)\u001b[0m\u001b[0;34m)\u001b[0m\u001b[0;34m\u001b[0m\u001b[0m\n\u001b[1;32m     19\u001b[0m \u001b[0;34m\u001b[0m\u001b[0m\n",
      "\u001b[0;32m/home/karthik/anaconda2/lib/python2.7/site-packages/keras/models.pyc\u001b[0m in \u001b[0;36madd\u001b[0;34m(self, layer)\u001b[0m\n\u001b[1;32m    473\u001b[0m                           output_shapes=[self.outputs[0]._keras_shape])\n\u001b[1;32m    474\u001b[0m         \u001b[0;32melse\u001b[0m\u001b[0;34m:\u001b[0m\u001b[0;34m\u001b[0m\u001b[0m\n\u001b[0;32m--> 475\u001b[0;31m             \u001b[0moutput_tensor\u001b[0m \u001b[0;34m=\u001b[0m \u001b[0mlayer\u001b[0m\u001b[0;34m(\u001b[0m\u001b[0mself\u001b[0m\u001b[0;34m.\u001b[0m\u001b[0moutputs\u001b[0m\u001b[0;34m[\u001b[0m\u001b[0;36m0\u001b[0m\u001b[0;34m]\u001b[0m\u001b[0;34m)\u001b[0m\u001b[0;34m\u001b[0m\u001b[0m\n\u001b[0m\u001b[1;32m    476\u001b[0m             \u001b[0;32mif\u001b[0m \u001b[0misinstance\u001b[0m\u001b[0;34m(\u001b[0m\u001b[0moutput_tensor\u001b[0m\u001b[0;34m,\u001b[0m \u001b[0mlist\u001b[0m\u001b[0;34m)\u001b[0m\u001b[0;34m:\u001b[0m\u001b[0;34m\u001b[0m\u001b[0m\n\u001b[1;32m    477\u001b[0m                 raise TypeError('All layers in a Sequential model '\n",
      "\u001b[0;32m/home/karthik/anaconda2/lib/python2.7/site-packages/keras/engine/topology.pyc\u001b[0m in \u001b[0;36m__call__\u001b[0;34m(self, inputs, **kwargs)\u001b[0m\n\u001b[1;32m    601\u001b[0m \u001b[0;34m\u001b[0m\u001b[0m\n\u001b[1;32m    602\u001b[0m             \u001b[0;31m# Actually call the layer, collecting output(s), mask(s), and shape(s).\u001b[0m\u001b[0;34m\u001b[0m\u001b[0;34m\u001b[0m\u001b[0m\n\u001b[0;32m--> 603\u001b[0;31m             \u001b[0moutput\u001b[0m \u001b[0;34m=\u001b[0m \u001b[0mself\u001b[0m\u001b[0;34m.\u001b[0m\u001b[0mcall\u001b[0m\u001b[0;34m(\u001b[0m\u001b[0minputs\u001b[0m\u001b[0;34m,\u001b[0m \u001b[0;34m**\u001b[0m\u001b[0mkwargs\u001b[0m\u001b[0;34m)\u001b[0m\u001b[0;34m\u001b[0m\u001b[0m\n\u001b[0m\u001b[1;32m    604\u001b[0m             \u001b[0moutput_mask\u001b[0m \u001b[0;34m=\u001b[0m \u001b[0mself\u001b[0m\u001b[0;34m.\u001b[0m\u001b[0mcompute_mask\u001b[0m\u001b[0;34m(\u001b[0m\u001b[0minputs\u001b[0m\u001b[0;34m,\u001b[0m \u001b[0mprevious_mask\u001b[0m\u001b[0;34m)\u001b[0m\u001b[0;34m\u001b[0m\u001b[0m\n\u001b[1;32m    605\u001b[0m \u001b[0;34m\u001b[0m\u001b[0m\n",
      "\u001b[0;32m/home/karthik/anaconda2/lib/python2.7/site-packages/keras/layers/convolutional.pyc\u001b[0m in \u001b[0;36mcall\u001b[0;34m(self, inputs)\u001b[0m\n\u001b[1;32m    170\u001b[0m                 \u001b[0mpadding\u001b[0m\u001b[0;34m=\u001b[0m\u001b[0mself\u001b[0m\u001b[0;34m.\u001b[0m\u001b[0mpadding\u001b[0m\u001b[0;34m,\u001b[0m\u001b[0;34m\u001b[0m\u001b[0m\n\u001b[1;32m    171\u001b[0m                 \u001b[0mdata_format\u001b[0m\u001b[0;34m=\u001b[0m\u001b[0mself\u001b[0m\u001b[0;34m.\u001b[0m\u001b[0mdata_format\u001b[0m\u001b[0;34m,\u001b[0m\u001b[0;34m\u001b[0m\u001b[0m\n\u001b[0;32m--> 172\u001b[0;31m                 dilation_rate=self.dilation_rate)\n\u001b[0m\u001b[1;32m    173\u001b[0m \u001b[0;34m\u001b[0m\u001b[0m\n\u001b[1;32m    174\u001b[0m         \u001b[0;32mif\u001b[0m \u001b[0mself\u001b[0m\u001b[0;34m.\u001b[0m\u001b[0muse_bias\u001b[0m\u001b[0;34m:\u001b[0m\u001b[0;34m\u001b[0m\u001b[0m\n",
      "\u001b[0;32m/home/karthik/anaconda2/lib/python2.7/site-packages/keras/backend/tensorflow_backend.pyc\u001b[0m in \u001b[0;36mconv3d\u001b[0;34m(x, kernel, strides, padding, data_format, dilation_rate)\u001b[0m\n\u001b[1;32m   3358\u001b[0m         \u001b[0mstrides\u001b[0m\u001b[0;34m=\u001b[0m\u001b[0mstrides\u001b[0m\u001b[0;34m,\u001b[0m\u001b[0;34m\u001b[0m\u001b[0m\n\u001b[1;32m   3359\u001b[0m         \u001b[0mpadding\u001b[0m\u001b[0;34m=\u001b[0m\u001b[0mpadding\u001b[0m\u001b[0;34m,\u001b[0m\u001b[0;34m\u001b[0m\u001b[0m\n\u001b[0;32m-> 3360\u001b[0;31m         data_format=tf_data_format)\n\u001b[0m\u001b[1;32m   3361\u001b[0m     \u001b[0;32mif\u001b[0m \u001b[0mdata_format\u001b[0m \u001b[0;34m==\u001b[0m \u001b[0;34m'channels_first'\u001b[0m \u001b[0;32mand\u001b[0m \u001b[0mtf_data_format\u001b[0m \u001b[0;34m==\u001b[0m \u001b[0;34m'NDHWC'\u001b[0m\u001b[0;34m:\u001b[0m\u001b[0;34m\u001b[0m\u001b[0m\n\u001b[1;32m   3362\u001b[0m         \u001b[0mx\u001b[0m \u001b[0;34m=\u001b[0m \u001b[0mtf\u001b[0m\u001b[0;34m.\u001b[0m\u001b[0mtranspose\u001b[0m\u001b[0;34m(\u001b[0m\u001b[0mx\u001b[0m\u001b[0;34m,\u001b[0m \u001b[0;34m(\u001b[0m\u001b[0;36m0\u001b[0m\u001b[0;34m,\u001b[0m \u001b[0;36m4\u001b[0m\u001b[0;34m,\u001b[0m \u001b[0;36m1\u001b[0m\u001b[0;34m,\u001b[0m \u001b[0;36m2\u001b[0m\u001b[0;34m,\u001b[0m \u001b[0;36m3\u001b[0m\u001b[0;34m)\u001b[0m\u001b[0;34m)\u001b[0m\u001b[0;34m\u001b[0m\u001b[0m\n",
      "\u001b[0;32m/home/karthik/anaconda2/lib/python2.7/site-packages/tensorflow/python/ops/nn_ops.pyc\u001b[0m in \u001b[0;36mconvolution\u001b[0;34m(input, filter, padding, strides, dilation_rate, name, data_format)\u001b[0m\n\u001b[1;32m    749\u001b[0m                      \u001b[0mdilation_rate\u001b[0m\u001b[0;34m=\u001b[0m\u001b[0mdilation_rate\u001b[0m\u001b[0;34m,\u001b[0m\u001b[0;34m\u001b[0m\u001b[0m\n\u001b[1;32m    750\u001b[0m                      name=name, data_format=data_format)\n\u001b[0;32m--> 751\u001b[0;31m     \u001b[0;32mreturn\u001b[0m \u001b[0mop\u001b[0m\u001b[0;34m(\u001b[0m\u001b[0minput\u001b[0m\u001b[0;34m,\u001b[0m \u001b[0mfilter\u001b[0m\u001b[0;34m)\u001b[0m\u001b[0;34m\u001b[0m\u001b[0m\n\u001b[0m\u001b[1;32m    752\u001b[0m \u001b[0;34m\u001b[0m\u001b[0m\n\u001b[1;32m    753\u001b[0m \u001b[0;34m\u001b[0m\u001b[0m\n",
      "\u001b[0;32m/home/karthik/anaconda2/lib/python2.7/site-packages/tensorflow/python/ops/nn_ops.pyc\u001b[0m in \u001b[0;36m__call__\u001b[0;34m(self, inp, filter)\u001b[0m\n\u001b[1;32m    833\u001b[0m \u001b[0;34m\u001b[0m\u001b[0m\n\u001b[1;32m    834\u001b[0m   \u001b[0;32mdef\u001b[0m \u001b[0m__call__\u001b[0m\u001b[0;34m(\u001b[0m\u001b[0mself\u001b[0m\u001b[0;34m,\u001b[0m \u001b[0minp\u001b[0m\u001b[0;34m,\u001b[0m \u001b[0mfilter\u001b[0m\u001b[0;34m)\u001b[0m\u001b[0;34m:\u001b[0m  \u001b[0;31m# pylint: disable=redefined-builtin\u001b[0m\u001b[0;34m\u001b[0m\u001b[0m\n\u001b[0;32m--> 835\u001b[0;31m     \u001b[0;32mreturn\u001b[0m \u001b[0mself\u001b[0m\u001b[0;34m.\u001b[0m\u001b[0mconv_op\u001b[0m\u001b[0;34m(\u001b[0m\u001b[0minp\u001b[0m\u001b[0;34m,\u001b[0m \u001b[0mfilter\u001b[0m\u001b[0;34m)\u001b[0m\u001b[0;34m\u001b[0m\u001b[0m\n\u001b[0m\u001b[1;32m    836\u001b[0m \u001b[0;34m\u001b[0m\u001b[0m\n\u001b[1;32m    837\u001b[0m \u001b[0;34m\u001b[0m\u001b[0m\n",
      "\u001b[0;32m/home/karthik/anaconda2/lib/python2.7/site-packages/tensorflow/python/ops/nn_ops.pyc\u001b[0m in \u001b[0;36m__call__\u001b[0;34m(self, inp, filter)\u001b[0m\n\u001b[1;32m    497\u001b[0m \u001b[0;34m\u001b[0m\u001b[0m\n\u001b[1;32m    498\u001b[0m   \u001b[0;32mdef\u001b[0m \u001b[0m__call__\u001b[0m\u001b[0;34m(\u001b[0m\u001b[0mself\u001b[0m\u001b[0;34m,\u001b[0m \u001b[0minp\u001b[0m\u001b[0;34m,\u001b[0m \u001b[0mfilter\u001b[0m\u001b[0;34m)\u001b[0m\u001b[0;34m:\u001b[0m  \u001b[0;31m# pylint: disable=redefined-builtin\u001b[0m\u001b[0;34m\u001b[0m\u001b[0m\n\u001b[0;32m--> 499\u001b[0;31m     \u001b[0;32mreturn\u001b[0m \u001b[0mself\u001b[0m\u001b[0;34m.\u001b[0m\u001b[0mcall\u001b[0m\u001b[0;34m(\u001b[0m\u001b[0minp\u001b[0m\u001b[0;34m,\u001b[0m \u001b[0mfilter\u001b[0m\u001b[0;34m)\u001b[0m\u001b[0;34m\u001b[0m\u001b[0m\n\u001b[0m\u001b[1;32m    500\u001b[0m \u001b[0;34m\u001b[0m\u001b[0m\n\u001b[1;32m    501\u001b[0m \u001b[0;34m\u001b[0m\u001b[0m\n",
      "\u001b[0;32m/home/karthik/anaconda2/lib/python2.7/site-packages/tensorflow/python/ops/nn_ops.pyc\u001b[0m in \u001b[0;36m__call__\u001b[0;34m(self, inp, filter)\u001b[0m\n\u001b[1;32m    185\u001b[0m         \u001b[0mpadding\u001b[0m\u001b[0;34m=\u001b[0m\u001b[0mself\u001b[0m\u001b[0;34m.\u001b[0m\u001b[0mpadding\u001b[0m\u001b[0;34m,\u001b[0m\u001b[0;34m\u001b[0m\u001b[0m\n\u001b[1;32m    186\u001b[0m         \u001b[0mdata_format\u001b[0m\u001b[0;34m=\u001b[0m\u001b[0mself\u001b[0m\u001b[0;34m.\u001b[0m\u001b[0mdata_format\u001b[0m\u001b[0;34m,\u001b[0m\u001b[0;34m\u001b[0m\u001b[0m\n\u001b[0;32m--> 187\u001b[0;31m         name=self.name)\n\u001b[0m\u001b[1;32m    188\u001b[0m \u001b[0;34m\u001b[0m\u001b[0m\n\u001b[1;32m    189\u001b[0m \u001b[0;34m\u001b[0m\u001b[0m\n",
      "\u001b[0;32m/home/karthik/anaconda2/lib/python2.7/site-packages/tensorflow/python/ops/gen_nn_ops.pyc\u001b[0m in \u001b[0;36mconv3d\u001b[0;34m(input, filter, strides, padding, data_format, name)\u001b[0m\n\u001b[1;32m    845\u001b[0m     _, _, _op = _op_def_lib._apply_op_helper(\n\u001b[1;32m    846\u001b[0m         \u001b[0;34m\"Conv3D\"\u001b[0m\u001b[0;34m,\u001b[0m \u001b[0minput\u001b[0m\u001b[0;34m=\u001b[0m\u001b[0minput\u001b[0m\u001b[0;34m,\u001b[0m \u001b[0mfilter\u001b[0m\u001b[0;34m=\u001b[0m\u001b[0mfilter\u001b[0m\u001b[0;34m,\u001b[0m \u001b[0mstrides\u001b[0m\u001b[0;34m=\u001b[0m\u001b[0mstrides\u001b[0m\u001b[0;34m,\u001b[0m\u001b[0;34m\u001b[0m\u001b[0m\n\u001b[0;32m--> 847\u001b[0;31m         padding=padding, data_format=data_format, name=name)\n\u001b[0m\u001b[1;32m    848\u001b[0m     \u001b[0m_result\u001b[0m \u001b[0;34m=\u001b[0m \u001b[0m_op\u001b[0m\u001b[0;34m.\u001b[0m\u001b[0moutputs\u001b[0m\u001b[0;34m[\u001b[0m\u001b[0;34m:\u001b[0m\u001b[0;34m]\u001b[0m\u001b[0;34m\u001b[0m\u001b[0m\n\u001b[1;32m    849\u001b[0m     \u001b[0m_inputs_flat\u001b[0m \u001b[0;34m=\u001b[0m \u001b[0m_op\u001b[0m\u001b[0;34m.\u001b[0m\u001b[0minputs\u001b[0m\u001b[0;34m\u001b[0m\u001b[0m\n",
      "\u001b[0;32m/home/karthik/anaconda2/lib/python2.7/site-packages/tensorflow/python/framework/op_def_library.pyc\u001b[0m in \u001b[0;36m_apply_op_helper\u001b[0;34m(self, op_type_name, name, **keywords)\u001b[0m\n\u001b[1;32m    785\u001b[0m         op = g.create_op(op_type_name, inputs, output_types, name=scope,\n\u001b[1;32m    786\u001b[0m                          \u001b[0minput_types\u001b[0m\u001b[0;34m=\u001b[0m\u001b[0minput_types\u001b[0m\u001b[0;34m,\u001b[0m \u001b[0mattrs\u001b[0m\u001b[0;34m=\u001b[0m\u001b[0mattr_protos\u001b[0m\u001b[0;34m,\u001b[0m\u001b[0;34m\u001b[0m\u001b[0m\n\u001b[0;32m--> 787\u001b[0;31m                          op_def=op_def)\n\u001b[0m\u001b[1;32m    788\u001b[0m       \u001b[0;32mreturn\u001b[0m \u001b[0moutput_structure\u001b[0m\u001b[0;34m,\u001b[0m \u001b[0mop_def\u001b[0m\u001b[0;34m.\u001b[0m\u001b[0mis_stateful\u001b[0m\u001b[0;34m,\u001b[0m \u001b[0mop\u001b[0m\u001b[0;34m\u001b[0m\u001b[0m\n\u001b[1;32m    789\u001b[0m \u001b[0;34m\u001b[0m\u001b[0m\n",
      "\u001b[0;32m/home/karthik/anaconda2/lib/python2.7/site-packages/tensorflow/python/framework/ops.pyc\u001b[0m in \u001b[0;36mcreate_op\u001b[0;34m(self, op_type, inputs, dtypes, input_types, name, attrs, op_def, compute_shapes, compute_device)\u001b[0m\n\u001b[1;32m   2956\u001b[0m         op_def=op_def)\n\u001b[1;32m   2957\u001b[0m     \u001b[0;32mif\u001b[0m \u001b[0mcompute_shapes\u001b[0m\u001b[0;34m:\u001b[0m\u001b[0;34m\u001b[0m\u001b[0m\n\u001b[0;32m-> 2958\u001b[0;31m       \u001b[0mset_shapes_for_outputs\u001b[0m\u001b[0;34m(\u001b[0m\u001b[0mret\u001b[0m\u001b[0;34m)\u001b[0m\u001b[0;34m\u001b[0m\u001b[0m\n\u001b[0m\u001b[1;32m   2959\u001b[0m     \u001b[0mself\u001b[0m\u001b[0;34m.\u001b[0m\u001b[0m_add_op\u001b[0m\u001b[0;34m(\u001b[0m\u001b[0mret\u001b[0m\u001b[0;34m)\u001b[0m\u001b[0;34m\u001b[0m\u001b[0m\n\u001b[1;32m   2960\u001b[0m     \u001b[0mself\u001b[0m\u001b[0;34m.\u001b[0m\u001b[0m_record_op_seen_by_control_dependencies\u001b[0m\u001b[0;34m(\u001b[0m\u001b[0mret\u001b[0m\u001b[0;34m)\u001b[0m\u001b[0;34m\u001b[0m\u001b[0m\n",
      "\u001b[0;32m/home/karthik/anaconda2/lib/python2.7/site-packages/tensorflow/python/framework/ops.pyc\u001b[0m in \u001b[0;36mset_shapes_for_outputs\u001b[0;34m(op)\u001b[0m\n\u001b[1;32m   2207\u001b[0m       \u001b[0mshape_func\u001b[0m \u001b[0;34m=\u001b[0m \u001b[0m_call_cpp_shape_fn_and_require_op\u001b[0m\u001b[0;34m\u001b[0m\u001b[0m\n\u001b[1;32m   2208\u001b[0m \u001b[0;34m\u001b[0m\u001b[0m\n\u001b[0;32m-> 2209\u001b[0;31m   \u001b[0mshapes\u001b[0m \u001b[0;34m=\u001b[0m \u001b[0mshape_func\u001b[0m\u001b[0;34m(\u001b[0m\u001b[0mop\u001b[0m\u001b[0;34m)\u001b[0m\u001b[0;34m\u001b[0m\u001b[0m\n\u001b[0m\u001b[1;32m   2210\u001b[0m   \u001b[0;32mif\u001b[0m \u001b[0mshapes\u001b[0m \u001b[0;32mis\u001b[0m \u001b[0mNone\u001b[0m\u001b[0;34m:\u001b[0m\u001b[0;34m\u001b[0m\u001b[0m\n\u001b[1;32m   2211\u001b[0m     raise RuntimeError(\n",
      "\u001b[0;32m/home/karthik/anaconda2/lib/python2.7/site-packages/tensorflow/python/framework/ops.pyc\u001b[0m in \u001b[0;36mcall_with_requiring\u001b[0;34m(op)\u001b[0m\n\u001b[1;32m   2157\u001b[0m \u001b[0;34m\u001b[0m\u001b[0m\n\u001b[1;32m   2158\u001b[0m   \u001b[0;32mdef\u001b[0m \u001b[0mcall_with_requiring\u001b[0m\u001b[0;34m(\u001b[0m\u001b[0mop\u001b[0m\u001b[0;34m)\u001b[0m\u001b[0;34m:\u001b[0m\u001b[0;34m\u001b[0m\u001b[0m\n\u001b[0;32m-> 2159\u001b[0;31m     \u001b[0;32mreturn\u001b[0m \u001b[0mcall_cpp_shape_fn\u001b[0m\u001b[0;34m(\u001b[0m\u001b[0mop\u001b[0m\u001b[0;34m,\u001b[0m \u001b[0mrequire_shape_fn\u001b[0m\u001b[0;34m=\u001b[0m\u001b[0mTrue\u001b[0m\u001b[0;34m)\u001b[0m\u001b[0;34m\u001b[0m\u001b[0m\n\u001b[0m\u001b[1;32m   2160\u001b[0m \u001b[0;34m\u001b[0m\u001b[0m\n\u001b[1;32m   2161\u001b[0m   \u001b[0m_call_cpp_shape_fn_and_require_op\u001b[0m \u001b[0;34m=\u001b[0m \u001b[0mcall_with_requiring\u001b[0m\u001b[0;34m\u001b[0m\u001b[0m\n",
      "\u001b[0;32m/home/karthik/anaconda2/lib/python2.7/site-packages/tensorflow/python/framework/common_shapes.pyc\u001b[0m in \u001b[0;36mcall_cpp_shape_fn\u001b[0;34m(op, require_shape_fn)\u001b[0m\n\u001b[1;32m    625\u001b[0m     res = _call_cpp_shape_fn_impl(op, input_tensors_needed,\n\u001b[1;32m    626\u001b[0m                                   \u001b[0minput_tensors_as_shapes_needed\u001b[0m\u001b[0;34m,\u001b[0m\u001b[0;34m\u001b[0m\u001b[0m\n\u001b[0;32m--> 627\u001b[0;31m                                   require_shape_fn)\n\u001b[0m\u001b[1;32m    628\u001b[0m     \u001b[0;32mif\u001b[0m \u001b[0;32mnot\u001b[0m \u001b[0misinstance\u001b[0m\u001b[0;34m(\u001b[0m\u001b[0mres\u001b[0m\u001b[0;34m,\u001b[0m \u001b[0mdict\u001b[0m\u001b[0;34m)\u001b[0m\u001b[0;34m:\u001b[0m\u001b[0;34m\u001b[0m\u001b[0m\n\u001b[1;32m    629\u001b[0m       \u001b[0;31m# Handles the case where _call_cpp_shape_fn_impl calls unknown_shape(op).\u001b[0m\u001b[0;34m\u001b[0m\u001b[0;34m\u001b[0m\u001b[0m\n",
      "\u001b[0;32m/home/karthik/anaconda2/lib/python2.7/site-packages/tensorflow/python/framework/common_shapes.pyc\u001b[0m in \u001b[0;36m_call_cpp_shape_fn_impl\u001b[0;34m(op, input_tensors_needed, input_tensors_as_shapes_needed, require_shape_fn)\u001b[0m\n\u001b[1;32m    689\u001b[0m       \u001b[0mmissing_shape_fn\u001b[0m \u001b[0;34m=\u001b[0m \u001b[0mTrue\u001b[0m\u001b[0;34m\u001b[0m\u001b[0m\n\u001b[1;32m    690\u001b[0m     \u001b[0;32melse\u001b[0m\u001b[0;34m:\u001b[0m\u001b[0;34m\u001b[0m\u001b[0m\n\u001b[0;32m--> 691\u001b[0;31m       \u001b[0;32mraise\u001b[0m \u001b[0mValueError\u001b[0m\u001b[0;34m(\u001b[0m\u001b[0merr\u001b[0m\u001b[0;34m.\u001b[0m\u001b[0mmessage\u001b[0m\u001b[0;34m)\u001b[0m\u001b[0;34m\u001b[0m\u001b[0m\n\u001b[0m\u001b[1;32m    692\u001b[0m \u001b[0;34m\u001b[0m\u001b[0m\n\u001b[1;32m    693\u001b[0m   \u001b[0;32mif\u001b[0m \u001b[0mmissing_shape_fn\u001b[0m\u001b[0;34m:\u001b[0m\u001b[0;34m\u001b[0m\u001b[0m\n",
      "\u001b[0;31mValueError\u001b[0m: Negative dimension size caused by subtracting 2 from 1 for 'conv3d_57/convolution' (op: 'Conv3D') with input shapes: [?,1,15,15,256], [2,3,3,256,1024]."
     ]
    }
   ],
   "source": [
    "from keras.models import Sequential\n",
    "from keras.layers import Conv3D, MaxPooling3D, GlobalAveragePooling3D, BatchNormalization\n",
    "from keras.layers.core import Dense, Dropout\n",
    "\n",
    "model = Sequential()\n",
    "\n",
    "model.add(Conv3D(filters=16, kernel_size=(5, 3, 3), strides=(1, 1, 1), padding='same', activation='relu', \n",
    "                 input_shape=X_train.shape[1:]))\n",
    "model.add(MaxPooling3D(pool_size=2, strides=(2, 2, 2), padding='same'))\n",
    "\n",
    "model.add(Conv3D(filters=64, kernel_size=(2, 3, 3), strides=(1, 1, 1), padding='valid', activation='relu'))\n",
    "model.add(MaxPooling3D(pool_size=2, strides=(2, 2, 2), padding='same'))\n",
    "\n",
    "model.add(Conv3D(filters=256, kernel_size=(2, 3, 3), strides=(1, 1, 1), padding='valid', activation='relu'))\n",
    "model.add(MaxPooling3D(pool_size=2, strides=(2, 2, 2), padding='same'))\n",
    "\n",
    "model.add(Conv3D(filters=1024, kernel_size=(2, 3, 3), strides=(1, 1, 1), padding='valid', activation='relu'))\n",
    "model.add(MaxPooling3D(pool_size=2, strides=(2, 2, 2), padding='same'))\n",
    "\n",
    "model.add(GlobalAveragePooling3D())\n",
    "\n",
    "model.add(Dense(32, activation='relu'))\n",
    "\n",
    "model.add(Dropout(0.5))\n",
    "\n",
    "\n",
    "model.add(Dense(6, activation='softmax'))\n",
    "\n",
    "model.summary()"
   ]
  },
  {
   "cell_type": "markdown",
   "metadata": {},
   "source": [
    "### Training Model - 3"
   ]
  },
  {
   "cell_type": "code",
   "execution_count": null,
   "metadata": {
    "collapsed": true,
    "scrolled": true
   },
   "outputs": [],
   "source": [
    "from keras.callbacks import ModelCheckpoint\n",
    "\n",
    "model.compile(loss='categorical_crossentropy', optimizer='nadam', metrics=['accuracy'])\n",
    "\n",
    "checkpoint = ModelCheckpoint(filepath='Model_3.weights.best.hdf5', save_best_only=True, verbose=1)\n",
    "\n",
    "history = model.fit(X_train, y_train, batch_size=16, epochs=40, \n",
    "                    validation_data=(X_valid, y_valid), verbose=2, callbacks=[checkpoint])"
   ]
  },
  {
   "cell_type": "markdown",
   "metadata": {},
   "source": [
    "### Evaluating Model - 3\n"
   ]
  },
  {
   "cell_type": "code",
   "execution_count": null,
   "metadata": {
    "collapsed": true
   },
   "outputs": [],
   "source": [
    "model.load_weights('Model_3.weights.best.hdf5')\n",
    "\n",
    "(loss, accuracy) = model.evaluate(X_test, y_test, batch_size=16, verbose=0)\n",
    "\n",
    "print('Accuracy on test data: {:.2f}%'.format(accuracy * 100))"
   ]
  },
  {
   "cell_type": "markdown",
   "metadata": {},
   "source": []
  },
  {
   "cell_type": "code",
   "execution_count": null,
   "metadata": {
    "collapsed": true
   },
   "outputs": [],
   "source": [
    "plt.figure(figsize=(12, 8))\n",
    "\n",
    "loss = history.history['loss']                          \n",
    "val_loss = history.history['val_loss']                  \n",
    "epochs = range(1, 41)\n",
    "\n",
    "plt.plot(epochs, loss, 'ro-', label='Training Loss')\n",
    "plt.plot(epochs, val_loss, 'go-', label = 'Validation Loss')\n",
    "plt.legend()"
   ]
  },
  {
   "cell_type": "markdown",
   "metadata": {},
   "source": []
  },
  {
   "cell_type": "markdown",
   "metadata": {
    "collapsed": true
   },
   "source": []
  },
  {
   "cell_type": "code",
   "execution_count": null,
   "metadata": {
    "collapsed": true
   },
   "outputs": [],
   "source": [
    "import numpy as np\n",
    "np.random.seed(141)\n",
    "\n",
    "\n",
    "people = np.arange(1, 26)\n",
    "chosen = np.random.choice(people, 9, replace=False)\n",
    "\n",
    "print('The following people are chosen:', chosen)\n",
    "\n",
    "bench_files = []\n",
    "indexes = []\n",
    "for index in chosen:\n",
    "    for i, path in enumerate(raw_data['filenames']):\n",
    "        if (('person' + str(index)) in path) or (('person0' + str(index)) in path):\n",
    "            bench_files.append(path)\n",
    "            indexes.append(i)\n",
    "            \n",
    "bench_files = np.array(bench_files)\n",
    "bench_targets = raw_data['target'][indexes]"
   ]
  },
  {
   "cell_type": "markdown",
   "metadata": {},
   "source": []
  },
  {
   "cell_type": "code",
   "execution_count": null,
   "metadata": {
    "collapsed": true
   },
   "outputs": [],
   "source": [
    "import numpy as np\n",
    "from keras.utils import to_categorical\n",
    "from utils import Videos\n",
    "\n",
    "reader = Videos(target_size=(128, 128), \n",
    "                to_gray=True, \n",
    "                max_frames=40, \n",
    "                extract_frames='first', \n",
    "                required_fps=5, \n",
    "                normalize_pixels=(-1, 1))"
   ]
  },
  {
   "cell_type": "code",
   "execution_count": null,
   "metadata": {
    "collapsed": true
   },
   "outputs": [],
   "source": [
    "bench_video = reader.read_videos(bench_files)\n",
    "bench_target = to_categorical(bench_targets, num_classes=6)\n",
    "print('Shape of training data:', bench_video.shape)\n",
    "print('Shape of training labels:', bench_target.shape)"
   ]
  },
  {
   "cell_type": "markdown",
   "metadata": {},
   "source": []
  },
  {
   "cell_type": "code",
   "execution_count": null,
   "metadata": {
    "collapsed": true
   },
   "outputs": [],
   "source": [
    "model.load_weights('Model_3.weights.best.hdf5')\n",
    "\n",
    "(loss, accuracy) = model.evaluate(bench_video, bench_target, batch_size=16, verbose=0)\n",
    "\n",
    "print('Accuracy on test data: {:.2f}%'.format(accuracy * 100))"
   ]
  },
  {
   "cell_type": "markdown",
   "metadata": {},
   "source": []
  },
  {
   "cell_type": "markdown",
   "metadata": {
    "collapsed": true
   },
   "source": []
  },
  {
   "cell_type": "code",
   "execution_count": null,
   "metadata": {
    "collapsed": true
   },
   "outputs": [],
   "source": [
    "benchmark_cnf_matrix = [\n",
    "    [0.979, 0.07, 0.07, 0.0, 0.0, 0.07], \n",
    "    [0.354, 0.597, 0.035, 0.0, 0.0, 0.014], \n",
    "    [0.208, 0.049, 0.736, 0.0, 0.0, 0.07], \n",
    "    [0.0, 0.0, 0.0, 0.604, 0.167, 0.229], \n",
    "    [0.0, 0.0, 0.0, 0.389, 0.549, 0.063], \n",
    "    [0.0, 0.0, 0.0, 0.162, 0.0, 0.838]\n",
    "]\n",
    "\n",
    "benchmark_cnf_matrix = np.array(benchmark_cnf_matrix)"
   ]
  },
  {
   "cell_type": "markdown",
   "metadata": {},
   "source": []
  },
  {
   "cell_type": "code",
   "execution_count": null,
   "metadata": {
    "collapsed": true
   },
   "outputs": [],
   "source": [
    "import itertools\n",
    "def confusion_matrix_plot(cm, classes, \n",
    "                          title='Normalized Confusion Matrix', \n",
    "                          normalize=False, \n",
    "                          cmap=plt.cm.Blues):\n",
    "    \"\"\"\n",
    "    This function prints and plots the confusion matrix.\n",
    "    Normalization can be applied by setting `normalize=True`.\n",
    "    \"\"\"\n",
    "\n",
    "    if normalize:\n",
    "        cm = cm.astype('float') / cm.sum(axis=1)[:, np.newaxis]\n",
    "        cm = np.around(cm, decimals=2)\n",
    "        cm[np.isnan(cm)] = 0.0\n",
    "    plt.subplots(1, 1, figsize=(8, 8))\n",
    "    plt.imshow(cm, interpolation='nearest', cmap=cmap)\n",
    "    plt.title(title)\n",
    "    plt.colorbar()\n",
    "    tick_marks = np.arange(len(classes))\n",
    "    plt.xticks(tick_marks, classes, rotation=45)\n",
    "    plt.yticks(tick_marks, classes)\n",
    "\n",
    "    fmt = '.2f'\n",
    "    thresh = cm.max() / 2.\n",
    "    for i, j in itertools.product(range(cm.shape[0]), range(cm.shape[1])):\n",
    "        plt.text(j, i, format(cm[i, j], fmt),\n",
    "                 horizontalalignment=\"center\",\n",
    "                 color=\"white\" if cm[i, j] > thresh else \"black\")\n",
    "\n",
    "    plt.tight_layout()\n",
    "    plt.ylabel('True label')\n",
    "    plt.xlabel('Predicted label')"
   ]
  },
  {
   "cell_type": "markdown",
   "metadata": {},
   "source": [
    "### Confusion Matrix of the Benchmark Model"
   ]
  },
  {
   "cell_type": "code",
   "execution_count": null,
   "metadata": {
    "collapsed": true
   },
   "outputs": [],
   "source": [
    "# Plotting the Confusion matrix of the Benchmark Model\n",
    "confusion_matrix_plot(benchmark_cnf_matrix, \n",
    "                      classes=['boxing', 'handclapping', 'handwaving', 'jogging', 'running', 'walking'])"
   ]
  },
  {
   "cell_type": "markdown",
   "metadata": {},
   "source": [
    "### Confusion matrix of Model-3"
   ]
  },
  {
   "cell_type": "code",
   "execution_count": null,
   "metadata": {
    "collapsed": true
   },
   "outputs": [],
   "source": [
    "# Imports\n",
    "from sklearn.metrics import confusion_matrix\n",
    "\n",
    "# Getting the predictions of our Model\n",
    "predictions = model.predict_classes(bench_video)\n",
    "\n",
    "# Constructing the Confusion Matrix\n",
    "model_cnf_matrix = confusion_matrix(bench_targets, predictions)\n",
    "\n",
    "# PLotting the confusion matrix of our model\n",
    "confusion_matrix_plot = confusion_matrix_plot(model_cnf_matrix, \n",
    "                                              classes=['boxing', 'handclapping', 'handwaving', 'jogging', 'running', 'walking'], \n",
    "                                              normalize=True)"
   ]
  },
  {
   "cell_type": "markdown",
   "metadata": {},
   "source": [
    "---\n"
   ]
  },
  {
   "cell_type": "markdown",
   "metadata": {},
   "source": [
    "### The sequence of frames of a sample video of *Running*"
   ]
  },
  {
   "cell_type": "code",
   "execution_count": null,
   "metadata": {
    "collapsed": true
   },
   "outputs": [],
   "source": [
    "# Plotting the selected frames of a sample video (action being performed is running)\n",
    "\n",
    "f, axarr = plt.subplots(5, 8, figsize=(17, 10))\n",
    "row = 0\n",
    "col = 0\n",
    "for index, frame in enumerate(bench_video[17]):\n",
    "    if index in [8, 16, 24, 32, 40]:\n",
    "        row += 1\n",
    "        col = 0\n",
    "    axarr[row, col].imshow(np.squeeze(frame, axis=2), cmap='gray')\n",
    "    col += 1"
   ]
  },
  {
   "cell_type": "markdown",
   "metadata": {},
   "source": [
    "### The sequence of frames of a sample video of *Jogging*"
   ]
  },
  {
   "cell_type": "code",
   "execution_count": null,
   "metadata": {
    "collapsed": true
   },
   "outputs": [],
   "source": [
    "# Plotting the selected frames of a sample video (action being performed is jogging)\n",
    "\n",
    "f, axarr = plt.subplots(5, 8, figsize=(17, 10))\n",
    "row = 0\n",
    "col = 0\n",
    "for index, frame in enumerate(bench_video[13]):\n",
    "    if index in [8, 16, 24, 32, 40]:\n",
    "        row += 1\n",
    "        col = 0\n",
    "    axarr[row, col].imshow(np.squeeze(frame, axis=2), cmap='gray')\n",
    "    col += 1"
   ]
  },
  {
   "cell_type": "markdown",
   "metadata": {},
   "source": [
    "### The sequence of frames of a sample video of *Walking*"
   ]
  },
  {
   "cell_type": "code",
   "execution_count": null,
   "metadata": {
    "collapsed": true
   },
   "outputs": [],
   "source": [
    "# Plotting the selected frames of a sample video (action being performed is walking)\n",
    "\n",
    "f, axarr = plt.subplots(5, 8, figsize=(17, 10))\n",
    "row = 0\n",
    "col = 0\n",
    "for index, frame in enumerate(bench_video[21]):\n",
    "    if index in [8, 16, 24, 32, 40]:\n",
    "        row += 1\n",
    "        col = 0\n",
    "    axarr[row, col].imshow(np.squeeze(frame, axis=2), cmap='gray')\n",
    "    col += 1"
   ]
  },
  {
   "cell_type": "code",
   "execution_count": null,
   "metadata": {
    "collapsed": true
   },
   "outputs": [],
   "source": []
  }
 ],
 "metadata": {
  "kernelspec": {
   "display_name": "Python 2",
   "language": "python",
   "name": "python2"
  },
  "language_info": {
   "codemirror_mode": {
    "name": "ipython",
    "version": 2
   },
   "file_extension": ".py",
   "mimetype": "text/x-python",
   "name": "python",
   "nbconvert_exporter": "python",
   "pygments_lexer": "ipython2",
   "version": "2.7.14"
  }
 },
 "nbformat": 4,
 "nbformat_minor": 2
}
